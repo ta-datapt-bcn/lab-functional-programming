{
 "cells": [
  {
   "cell_type": "markdown",
   "metadata": {},
   "source": [
    "In the cell below, create a Python function that wraps your previous solution for the Bag of Words lab.\n",
    "\n",
    "Requirements:\n",
    "\n",
    "1. Your function should accept the following parameters:\n",
    "    * `docs` [REQUIRED] - array of document paths.\n",
    "    * `stop_words` [OPTIONAL] - array of stop words. The default value is an empty array.\n",
    "\n",
    "1. Your function should return a Python object that contains the following:\n",
    "    * `bag_of_words` - array of strings of normalized unique words in the corpus.\n",
    "    * `term_freq` - array of the term-frequency vectors."
   ]
  },
  {
   "cell_type": "code",
   "execution_count": 5,
   "metadata": {},
   "outputs": [],
   "source": [
    "# Import libraries\n",
    "import os\n",
    "import numpy as np\n",
    "import pandas as pd\n",
    "import random\n",
    "import operator\n",
    "import re\n",
    "import math\n",
    "\n",
    "\n",
    "# Define function\n",
    "def get_bow_from_docs(docs, stop_words=[]):\n",
    "    \n",
    "    # In the function, first define the variables you will use such as `corpus`, `bag_of_words`, and `term_freq`.\n",
    "    \n",
    "    corpus = []\n",
    "    bag_of_words = []\n",
    "    term_freq = []\n",
    "    \n",
    "    \"\"\"\n",
    "    Loop `docs` and read the content of each doc into a string in `corpus`.\n",
    "    Remember to convert the doc content to lowercases and remove punctuation.\n",
    "    \"\"\"\n",
    "\n",
    "    corpus = [open(doc,\"r\").read() for doc in docs]\n",
    "    corpus = [doc.lower() for doc in corpus]\n",
    "    corpus = [re.sub(\"[^\\w\\w*]\", \" \", doc) for doc in corpus]\n",
    "    \n",
    "    \n",
    "    \"\"\"\n",
    "    Loop `corpus`. Append the terms in each doc into the `bag_of_words` array. The terms in `bag_of_words` \n",
    "    should be unique which means before adding each term you need to check if it's already added to the array.\n",
    "    In addition, check if each term is in the `stop_words` array. Only append the term to `bag_of_words`\n",
    "    if it is not a stop word.\n",
    "    \"\"\"\n",
    "\n",
    "    for doc in corpus:\n",
    "        split = doc.split()\n",
    "        for word in split:\n",
    "            if word not in bag_of_words and word not in stop_words:\n",
    "                bag_of_words.append(word)\n",
    "    \n",
    "    \n",
    "    \"\"\"\n",
    "    Loop `corpus` again. For each doc string, count the number of occurrences of each term in `bag_of_words`. \n",
    "    Create an array for each doc's term frequency and append it to `term_freq`.\n",
    "    \"\"\"\n",
    "\n",
    "    for doc in corpus:\n",
    "        frequency = []\n",
    "        terms = doc.split()\n",
    "        for word in bag_of_words:\n",
    "            frequency.append(terms.count(word))\n",
    "        term_freq.append(frequency)\n",
    "    \n",
    "    # Now return your output as an object\n",
    "    return {\n",
    "        \"bag_of_words\": bag_of_words,\n",
    "        \"term_freq\": term_freq\n",
    "    }"
   ]
  },
  {
   "cell_type": "markdown",
   "metadata": {},
   "source": [
    "Test your function without stop words. You should see the output like below:\n",
    "\n",
    "```{'bag_of_words': ['ironhack', 'is', 'cool', 'i', 'love', 'am', 'a', 'student', 'at'], 'term_freq': [[1, 1, 1, 0, 0, 0, 0, 0, 0], [1, 0, 0, 1, 1, 0, 0, 0, 0], [1, 0, 0, 1, 0, 1, 1, 1, 1]]}```"
   ]
  },
  {
   "cell_type": "code",
   "execution_count": 6,
   "metadata": {},
   "outputs": [
    {
     "name": "stdout",
     "output_type": "stream",
     "text": [
      "{'bag_of_words': ['ironhack', 'is', 'cool', 'i', 'love', 'am', 'a', 'student', 'at'], 'term_freq': [[1, 1, 1, 0, 0, 0, 0, 0, 0], [1, 0, 0, 1, 1, 0, 0, 0, 0], [1, 0, 0, 1, 0, 1, 1, 1, 1]]}\n"
     ]
    }
   ],
   "source": [
    "# Define doc paths array\n",
    "docs = [\"doc1.txt\",\"doc2.txt\",\"doc3.txt\"]\n",
    "\n",
    "# Obtain BoW from your function\n",
    "bow = get_bow_from_docs(docs)\n",
    "\n",
    "# Print BoW\n",
    "print(bow)"
   ]
  },
  {
   "cell_type": "markdown",
   "metadata": {},
   "source": [
    "If your attempt above is successful, nice work done!\n",
    "\n",
    "Now test your function again with the stop words. In the previous lab we defined the stop words in a large array. In this lab, we'll import the stop words from Scikit-Learn."
   ]
  },
  {
   "cell_type": "code",
   "execution_count": 7,
   "metadata": {},
   "outputs": [
    {
     "name": "stdout",
     "output_type": "stream",
     "text": [
      "frozenset({'everywhere', 'both', 'detail', 'within', 'latter', 'can', 'myself', 'somewhere', 'indeed', 'have', 'thereby', 'each', 'as', 'become', 'were', 'except', 'to', 'not', 'cant', 'namely', 'behind', 'how', 'somehow', 'another', 'latterly', 'if', 'becomes', 'couldnt', 'bottom', 'whereafter', 'fire', 'would', 'whoever', 'an', 'together', 'before', 'again', 'everyone', 'in', 'elsewhere', 'mill', 'sixty', 'has', 'fifty', 'all', 'forty', 'ever', 'anyhow', 'being', 'name', 'i', 'often', 'under', 'through', 'own', 'any', 'must', 'from', 'un', 'been', 'hundred', 'thick', 'you', 'thin', 'six', 'but', 'by', 'nothing', 'front', 'thereafter', 'beside', 'two', 'whose', 'ourselves', 'go', 'might', 'see', 'around', 'seemed', 'per', 'eight', 'should', 'herself', 'interest', 'why', 'their', 'fill', 'sometimes', 'amoungst', 'so', 'for', 'further', 'something', 'wherever', 'had', 'that', 'de', 'them', 'its', 'while', 'then', 'with', 'above', 'at', 'wherein', 'less', 'already', 'they', 'whenever', 'thence', 'now', 'himself', 'hers', 'keep', 'seems', 'these', 'yourself', 'done', 'us', 'on', 'where', 'which', 'amount', 'rather', 'made', 'full', 'themselves', 'she', 'what', 'although', 'herein', 'it', 'yet', 'sincere', 'seem', 'this', 'when', 'anyway', 'anyone', 'or', 'put', 'none', 'moreover', 'down', 'find', 'anything', 'however', 'four', 'hereupon', 'across', 'system', 'every', 'are', 'perhaps', 'nor', 'almost', 'her', 'con', 'his', 'one', 'side', 'someone', 'seeming', 'get', 'itself', 'my', 'co', 'always', 'ours', 'cry', 'third', 'nevertheless', 'whereby', 'against', 'among', 'three', 'other', 'amongst', 'since', 'serious', 'and', 'hereby', 'below', 'found', 'nowhere', 'others', 'there', 'top', 'do', 'whereupon', 'empty', 'describe', 'many', 're', 'off', 'never', 'most', 'who', 'same', 'such', 'hence', 'along', 'call', 'hereafter', 'no', 'afterwards', 'ten', 'into', 'throughout', 'the', 'once', 'out', 'fifteen', 'upon', 'inc', 'enough', 'first', 'beforehand', 'here', 'eg', 'could', 'besides', 'was', 'eleven', 'whether', 'former', 'may', 'became', 'whole', 'please', 'some', 'therein', 'be', 'we', 'least', 'last', 'am', 'a', 'than', 'mostly', 'part', 'still', 'anywhere', 'much', 'he', 'though', 'without', 'thru', 'whither', 'until', 'alone', 'those', 'becoming', 'nobody', 'will', 'therefore', 'etc', 'twelve', 'everything', 'also', 'of', 'hasnt', 'five', 'nine', 'about', 'cannot', 'else', 'neither', 'yours', 'thus', 'back', 'onto', 'noone', 'even', 'whereas', 'well', 'him', 'toward', 'towards', 'beyond', 'sometime', 'twenty', 'too', 'after', 'mine', 'either', 'me', 'very', 'is', 'take', 'ltd', 'show', 'whatever', 'during', 'meanwhile', 'formerly', 'up', 'via', 'move', 'otherwise', 'over', 'our', 'your', 'whence', 'ie', 'next', 'more', 'thereupon', 'only', 'because', 'due', 'bill', 'yourselves', 'whom', 'several', 'give', 'between', 'few'})\n"
     ]
    }
   ],
   "source": [
    "from sklearn.feature_extraction import stop_words\n",
    "print(stop_words.ENGLISH_STOP_WORDS)"
   ]
  },
  {
   "cell_type": "markdown",
   "metadata": {},
   "source": [
    "You should have seen a large list of words that looks like:\n",
    "\n",
    "```frozenset({'across', 'mine', 'cannot', ...})```\n",
    "\n",
    "`frozenset` is a type of Python object that is immutable. In this lab you can use it just like an array without conversion."
   ]
  },
  {
   "cell_type": "markdown",
   "metadata": {},
   "source": [
    "Next, test your function with supplying `stop_words.ENGLISH_STOP_WORDS` as the second parameter."
   ]
  },
  {
   "cell_type": "code",
   "execution_count": 4,
   "metadata": {},
   "outputs": [
    {
     "name": "stdout",
     "output_type": "stream",
     "text": [
      "{'bag_of_words': ['ironhack', 'cool', 'love', 'student'], 'term_freq': [[1, 1, 0, 0], [1, 0, 1, 0], [1, 0, 0, 1]]}\n"
     ]
    }
   ],
   "source": [
    "bow = get_bow_from_docs(docs, stop_words.ENGLISH_STOP_WORDS)\n",
    "\n",
    "print(bow)"
   ]
  },
  {
   "cell_type": "markdown",
   "metadata": {},
   "source": [
    "You should have seen:\n",
    "\n",
    "```{'bag_of_words': ['ironhack', 'cool', 'love', 'student'], 'term_freq': [[1, 1, 0, 0], [1, 0, 1, 0], [1, 0, 0, 1]]}```"
   ]
  }
 ],
 "metadata": {
  "kernelspec": {
   "display_name": "Python 3",
   "language": "python",
   "name": "python3"
  },
  "language_info": {
   "codemirror_mode": {
    "name": "ipython",
    "version": 3
   },
   "file_extension": ".py",
   "mimetype": "text/x-python",
   "name": "python",
   "nbconvert_exporter": "python",
   "pygments_lexer": "ipython3",
   "version": "3.7.4"
  }
 },
 "nbformat": 4,
 "nbformat_minor": 2
}
