{
 "cells": [
  {
   "cell_type": "markdown",
   "metadata": {},
   "source": [
    "Now we want to enhance the `get_bow_from_docs` function so that it will work with HTML webpages. In HTML, there are a lot of messy codes such as HTML tags, Javascripts, [unicodes](https://www.w3schools.com/charsets/ref_utf_misc_symbols.asp) that will mess up your bag of words. We need to clean up those junk before generating BoW.\n",
    "\n",
    "Next, what you will do is to define several new functions each of which is specialized to clean up the HTML codes in one aspect. For instance, you can have a `strip_html_tags` function to remove all HTML tags, a `remove_punctuation` function to remove all punctuation, a `to_lower_case` function to convert string to lowercase, and a `remove_unicode` function to remove all unicodes.\n",
    "\n",
    "Then in your `get_bow_from_doc` function, you will call each of those functions you created to clean up the HTML before you generate the corpus.\n",
    "\n",
    "Note: Please use Python string operations and regular expression only in this lab. Do not use extra libraries such as `beautifulsoup` because otherwise you loose the purpose of practicing."
   ]
  },
  {
   "cell_type": "code",
   "execution_count": 1,
   "metadata": {
    "ExecuteTime": {
     "end_time": "2020-01-10T20:31:20.496434Z",
     "start_time": "2020-01-10T20:31:20.492343Z"
    }
   },
   "outputs": [],
   "source": [
    "import os\n",
    "import string\n",
    "import re"
   ]
  },
  {
   "cell_type": "code",
   "execution_count": 68,
   "metadata": {
    "ExecuteTime": {
     "end_time": "2020-01-10T20:49:42.113505Z",
     "start_time": "2020-01-10T20:49:42.108311Z"
    }
   },
   "outputs": [],
   "source": [
    "def remove_unicode(docs):\n",
    "    '''\n",
    "    Removes HTML tags\n",
    "    -input: \n",
    "            *raw_html = webpages\n",
    "    -output: \n",
    "            *clean input text\n",
    "    '''\n",
    "    clean = re.sub(r'[^\\x00-\\x7f]', '', docs) \n",
    "    cleantext = re.sub(clean, \" \", docs)\n",
    "    return(cleantext)\n"
   ]
  },
  {
   "cell_type": "code",
   "execution_count": 81,
   "metadata": {
    "ExecuteTime": {
     "end_time": "2020-01-11T12:11:52.045313Z",
     "start_time": "2020-01-11T12:11:52.019316Z"
    }
   },
   "outputs": [],
   "source": [
    "# Define your string handling functions below\n",
    "# Minimal 3 functions\n",
    "\n",
    "def strip_html_tags(docs):\n",
    "    '''\n",
    "    Removes HTML tags\n",
    "    -input: \n",
    "            *raw_html = webpages\n",
    "    -output: \n",
    "            *clean input text\n",
    "    '''\n",
    "    clean = re.compile(r'<.*?>')\n",
    "    cleantext = re.sub(clean, \" \", docs)\n",
    "    return cleantext\n",
    "\n",
    "\n",
    "def remove_punctuation(docs):\n",
    "    '''\n",
    "    Removes punctuation\n",
    "    -input: \n",
    "            *raw_html = webpages\n",
    "    -output: \n",
    "            *input text w/out puncutation\n",
    "    '''\n",
    "    clean = \"\".join(x for x in docs if x not in string.punctuation)\n",
    "    return clean\n",
    "    \n",
    "def to_lower_case(docs):\n",
    "    '''\n",
    "    turns all words lower case\n",
    "    -input: \n",
    "            *raw_html = webpages\n",
    "    -output: \n",
    "            *input text in lower case\n",
    "    '''\n",
    "    clean = \"\".join(x for x in docs).lower()\n",
    "    return clean\n",
    "\n",
    "\n",
    "def remove_numbers(docs):\n",
    "    '''\n",
    "    Removes punctuation\n",
    "    -input: \n",
    "            *raw_html = webpages\n",
    "    -output: \n",
    "            *input text w/out numbers\n",
    "    '''\n",
    "    clean = re.compile('\\W') \n",
    "    clean = re.sub(clean, \" \", docs)\n",
    "    return clean  \n"
   ]
  },
  {
   "cell_type": "markdown",
   "metadata": {},
   "source": [
    "Next, paste your previously written `get_bow_from_docs` function below. Call your functions above at the appropriate place."
   ]
  },
  {
   "cell_type": "code",
   "execution_count": 82,
   "metadata": {
    "ExecuteTime": {
     "end_time": "2020-01-11T12:11:52.791571Z",
     "start_time": "2020-01-11T12:11:52.775977Z"
    }
   },
   "outputs": [],
   "source": [
    "def get_bow_from_docs(docs, stop_words=[]):\n",
    "    \n",
    "    # In the function, first define the variables you will use such as `corpus`, `bag_of_words`, and `term_freq`.\n",
    "    corpus = []\n",
    "    bag_of_words = []\n",
    "    term_freq = []\n",
    "    \n",
    "    # write your codes here\n",
    "    \"\"\"\n",
    "    Loop `docs` and read the content of each doc into a string in `corpus`.\n",
    "    Remember to convert the doc content to lowercases and remove punctuation.\n",
    "    \"\"\"\n",
    "    \n",
    "    for doc in docs:\n",
    "        s = open(doc)\n",
    "        s = remove_punctuation(s)\n",
    "        s = remove_unicode(s)\n",
    "        s = strip_html_tags(s)\n",
    "        s = to_lower_case(s)\n",
    "        \n",
    "        corpus.append(s)  \n",
    "        \n",
    "\n",
    "    \"\"\"\n",
    "    Loop `corpus`. Append the terms in each doc into the `bag_of_words` array. The terms in `bag_of_words` \n",
    "    should be unique which means before adding each term you need to check if it's already added to the array.\n",
    "    In addition, check if each term is in the `stop_words` array. Only append the term to `bag_of_words`\n",
    "    if it is not a stop word.\n",
    "    \"\"\"\n",
    "    for strings in corpus:\n",
    "        x = \" \".join(corpus)\n",
    "        terms = x.split()\n",
    "        for term in terms:\n",
    "            if term not in bag_of_words and term not in stop_words:\n",
    "                bag_of_words.append(term)\n",
    "    \n",
    "    \"\"\"\n",
    "    Loop `corpus` again. For each doc string, count the number of occurrences of each term in `bag_of_words`. \n",
    "    Create an array for each doc's term frequency and append it to `term_freq`.\n",
    "    \"\"\"\n",
    "    for strings in corpus:\n",
    "        terms = strings.split() #split the strings in corpus into terms to count the frequency \n",
    "        doc_freq = []\n",
    "        for words in bag_of_words:\n",
    "            doc_freq.append(terms.count(words)) #if .append directly to term_freq will count as one not by doc.\n",
    "        term_freq.append(doc_freq)       \n",
    "    \n",
    "    \n",
    "    return {\n",
    "            \"bag_of_words\": bag_of_words,\n",
    "            \"term_freq\": term_freq\n",
    "        }\n"
   ]
  },
  {
   "cell_type": "markdown",
   "metadata": {},
   "source": [
    "Next, read the content from the three HTML webpages in the `your-codes` directory to test your function."
   ]
  },
  {
   "cell_type": "code",
   "execution_count": 83,
   "metadata": {
    "ExecuteTime": {
     "end_time": "2020-01-11T12:11:53.521670Z",
     "start_time": "2020-01-11T12:11:53.472418Z"
    }
   },
   "outputs": [
    {
     "name": "stdout",
     "output_type": "stream",
     "text": [
      "{'bag_of_words': ['lorem', 'ipsum', '-', 'facts', 'lipsum', 'generator', 'googletag.cmd.push(function()', '{', 'googletag.display(\"div-gpt-ad-1456148316198-0\");', '});', '&#1344;&#1377;&#1397;&#1381;&#1408;&#1381;&#1398;', 'shqip', '&#8235;&#1575;&#1604;&#1593;&#1585;&#1576;&#1610;&#1577;', '&nbsp;&nbsp;', '&#1041;&#1098;&#1083;&#1075;&#1072;&#1088;&#1089;&#1082;&#1080;', 'catal&agrave;', '&#20013;&#25991;&#31616;&#20307;', 'hrvatski', '&#268;esky', 'dansk', 'nederlands', 'english', 'eesti', 'filipino', 'suomi', 'fran&ccedil;ais', '&#4325;&#4304;&#4320;&#4311;&#4323;&#4314;&#4312;', 'deutsch', '&#917;&#955;&#955;&#951;&#957;&#953;&#954;&#940;', '&#8235;&#1506;&#1489;&#1512;&#1497;&#1514;', '&#2361;&#2367;&#2344;&#2381;&#2342;&#2368;', 'magyar', 'indonesia', 'italiano', 'latviski', 'lietuvi&scaron;kai', '&#1084;&#1072;&#1082;&#1077;&#1076;&#1086;&#1085;&#1089;&#1082;&#1080;', 'melayu', 'norsk', 'polski', 'portugu&ecirc;s', 'rom&acirc;na', 'pycc&#1082;&#1080;&#1081;', '&#1057;&#1088;&#1087;&#1089;&#1082;&#1080;', 'sloven&#269;ina', 'sloven&#353;&#269;ina', 'espa&ntilde;ol', 'svenska', '&#3652;&#3607;&#3618;', 't&uuml;rk&ccedil;e', '&#1059;&#1082;&#1088;&#1072;&#1111;&#1085;&#1089;&#1100;&#1082;&#1072;', 'ti&#7871;ng', 'vi&#7879;t', '\"neque', 'porro', 'quisquam', 'est', 'qui', 'dolorem', 'quia', 'dolor', 'sit', 'amet,', 'consectetur,', 'adipisci', 'velit...\"', '\"there', 'loves', 'pain', 'itself,', 'seeks', 'wants', 'it,', 'simply', 'pain...\"', 'ipsum?', 'dummy', 'text', 'printing', 'typesetting', 'industry.', \"industry's\", 'standard', '1500s,', 'unknown', 'printer', 'took', 'galley', 'type', 'scrambled', 'make', 'specimen', 'book.', 'survived', 'centuries,', 'leap', 'electronic', 'typesetting,', 'remaining', 'essentially', 'unchanged.', 'popularised', '1960s', 'release', 'letraset', 'sheets', 'containing', 'passages,', 'recently', 'desktop', 'publishing', 'software', 'like', 'aldus', 'pagemaker', 'including', 'versions', 'ipsum.', 'use', 'it?', 'long', 'established', 'fact', 'reader', 'distracted', 'readable', 'content', 'page', 'looking', 'layout.', 'point', 'using', 'more-or-less', 'normal', 'distribution', 'letters,', 'opposed', \"'content\", 'here,', \"here',\", 'making', 'look', 'english.', 'packages', 'web', 'editors', 'default', 'model', 'text,', 'search', \"'lorem\", \"ipsum'\", 'uncover', 'sites', 'infancy.', 'various', 'evolved', 'years,', 'accident,', 'purpose', '(injected', 'humour', 'like).', 'does', 'come', 'from?', 'contrary', 'popular', 'belief,', 'random', 'text.', 'roots', 'piece', 'classical', 'latin', 'literature', '45', 'bc,', '2000', 'years', 'old.', 'richard', 'mcclintock,', 'professor', 'hampden-sydney', 'college', 'virginia,', 'looked', 'obscure', 'words,', 'passage,', 'going', 'cites', 'word', 'literature,', 'discovered', 'undoubtable', 'source.', 'comes', 'sections', '1.10.32', '1.10.33', '\"de', 'finibus', 'bonorum', 'et', 'malorum\"', '(the', 'extremes', 'good', 'evil)', 'cicero,', 'written', 'bc.', 'book', 'treatise', 'theory', 'ethics,', 'renaissance.', 'line', 'ipsum,', '\"lorem', 'amet..\",', 'section', '1.10.32.', 'chunk', 'used', '1500s', 'reproduced', 'interested.', 'cicero', 'exact', 'original', 'form,', 'accompanied', '1914', 'translation', 'h.', 'rackham.', 'some?', 'variations', 'passages', 'available,', 'majority', 'suffered', 'alteration', 'injected', 'humour,', 'randomised', 'words', \"don't\", 'slightly', 'believable.', 'passage', 'need', 'sure', \"isn't\", 'embarrassing', 'hidden', 'middle', 'generators', 'internet', 'tend', 'repeat', 'predefined', 'chunks', 'necessary,', 'true', 'internet.', 'uses', 'dictionary', '200', 'combined', 'handful', 'sentence', 'structures,', 'generate', 'looks', 'reasonable.', 'generated', 'free', 'repetition,', 'non-characteristic', 'etc.', 'paragraphs', 'bytes', 'lists', 'start', \"amet...'\", 'translations:', 'help', 'translate', 'site', 'foreign', 'language', '?', 'email', 'details', 'help.', 'set', 'mock', 'banners', 'available', 'colours', 'range', 'banner', 'sizes:', 'donate:', 'regularly', 'internet,', 'consider', 'donating', 'small', 'sum', 'pay', 'hosting', 'bandwidth', 'bill.', 'minimum', 'donation,', 'appreciated', 'click', 'donate', 'paypal.', 'thank', 'support.', 'chrome', 'firefox', 'add-on', 'nodejs', 'tex', 'package', 'python', 'interface', 'gtk', 'rails', '.net', 'groovy', 'adobe', 'plugin', 'consectetur', 'adipiscing', 'elit,', 'sed', 'eiusmod', 'tempor', 'incididunt', 'ut', 'labore', 'dolore', 'magna', 'aliqua.', 'enim', 'ad', 'minim', 'veniam,', 'quis', 'nostrud', 'exercitation', 'ullamco', 'laboris', 'nisi', 'aliquip', 'ex', 'ea', 'commodo', 'consequat.', 'duis', 'aute', 'irure', 'reprehenderit', 'voluptate', 'velit', 'esse', 'cillum', 'eu', 'fugiat', 'nulla', 'pariatur.', 'excepteur', 'sint', 'occaecat', 'cupidatat', 'non', 'proident,', 'sunt', 'culpa', 'officia', 'deserunt', 'mollit', 'anim', 'id', 'laborum.\"', 'malorum\",', 'bc', '\"sed', 'perspiciatis', 'unde', 'omnis', 'iste', 'natus', 'error', 'voluptatem', 'accusantium', 'doloremque', 'laudantium,', 'totam', 'rem', 'aperiam,', 'eaque', 'ipsa', 'quae', 'ab', 'illo', 'inventore', 'veritatis', 'quasi', 'architecto', 'beatae', 'vitae', 'dicta', 'explicabo.', 'nemo', 'ipsam', 'voluptas', 'aspernatur', 'aut', 'odit', 'fugit,', 'consequuntur', 'magni', 'dolores', 'eos', 'ratione', 'sequi', 'nesciunt.', 'neque', 'est,', 'velit,', 'numquam', 'eius', 'modi', 'tempora', 'incidunt', 'magnam', 'aliquam', 'quaerat', 'voluptatem.', 'minima', 'nostrum', 'exercitationem', 'ullam', 'corporis', 'suscipit', 'laboriosam,', 'aliquid', 'commodi', 'consequatur?', 'autem', 'vel', 'eum', 'iure', 'quam', 'nihil', 'molestiae', 'consequatur,', 'illum', 'quo', 'pariatur?\"', 'rackham', '\"but', 'explain', 'mistaken', 'idea', 'denouncing', 'pleasure', 'praising', 'born', 'complete', 'account', 'system,', 'expound', 'actual', 'teachings', 'great', 'explorer', 'truth,', 'master-builder', 'human', 'happiness.', 'rejects,', 'dislikes,', 'avoids', 'pleasure,', 'know', 'pursue', 'rationally', 'encounter', 'consequences', 'extremely', 'painful.', 'pursues', 'desires', 'obtain', 'pain,', 'occasionally', 'circumstances', 'occur', 'toil', 'procure', 'pleasure.', 'trivial', 'example,', 'undertakes', 'laborious', 'physical', 'exercise,', 'advantage', 'right', 'fault', 'man', 'chooses', 'enjoy', 'annoying', 'consequences,', 'produces', 'resultant', 'pleasure?\"', '\"at', 'vero', 'accusamus', 'iusto', 'odio', 'dignissimos', 'ducimus', 'blanditiis', 'praesentium', 'voluptatum', 'deleniti', 'atque', 'corrupti', 'quos', 'quas', 'molestias', 'excepturi', 'occaecati', 'cupiditate', 'provident,', 'similique', 'mollitia', 'animi,', 'laborum', 'dolorum', 'fuga.', 'harum', 'quidem', 'rerum', 'facilis', 'expedita', 'distinctio.', 'nam', 'libero', 'tempore,', 'cum', 'soluta', 'nobis', 'eligendi', 'optio', 'cumque', 'impedit', 'minus', 'quod', 'maxime', 'placeat', 'facere', 'possimus,', 'assumenda', 'repellendus.', 'temporibus', 'quibusdam', 'officiis', 'debitis', 'necessitatibus', 'saepe', 'eveniet', 'voluptates', 'repudiandae', 'recusandae.', 'itaque', 'earum', 'hic', 'tenetur', 'sapiente', 'delectus,', 'reiciendis', 'voluptatibus', 'maiores', 'alias', 'consequatur', 'perferendis', 'doloribus', 'asperiores', 'repellat.\"', '\"on', 'hand,', 'denounce', 'righteous', 'indignation', 'dislike', 'men', 'beguiled', 'demoralized', 'charms', 'moment,', 'blinded', 'desire,', 'foresee', 'trouble', 'bound', 'ensue;', 'equal', 'blame', 'belongs', 'fail', 'duty', 'weakness', 'will,', 'saying', 'shrinking', 'pain.', 'cases', 'perfectly', 'simple', 'easy', 'distinguish.', 'hour,', 'power', 'choice', 'untrammelled', 'prevents', 'able', 'best,', 'welcomed', 'avoided.', 'certain', 'owing', 'claims', 'obligations', 'business', 'frequently', 'pleasures', 'repudiated', 'annoyances', 'accepted.', 'wise', 'holds', 'matters', 'principle', 'selection:', 'rejects', 'secure', 'greater', 'pleasures,', 'endures', 'pains', 'avoid', 'worse', 'pains.\"', 'googletag.display(\"div-gpt-ad-1474537762122-2\");', 'googletag.display(\"div-gpt-ad-1474537762122-3\");', '&#104;&#101;&#108;&#112;&#64;&#108;&#105;&#112;&#115;&#117;&#109;&#46;&#99;&#111;&#109;', 'privacy', 'policy', 'googletag.display(\"div-gpt-ad-1456148316198-1\");'], 'term_freq': [[20, 21, 3, 1, 2, 2, 4, 4, 1, 4, 1, 1, 1, 2, 1, 1, 1, 1, 1, 1, 1, 2, 1, 1, 1, 1, 1, 1, 1, 1, 1, 1, 1, 1, 1, 1, 1, 1, 1, 1, 1, 1, 1, 1, 1, 1, 1, 1, 1, 1, 1, 1, 1, 1, 2, 2, 5, 8, 3, 5, 7, 7, 3, 3, 2, 1, 1, 2, 7, 3, 1, 1, 1, 3, 1, 1, 2, 2, 1, 1, 1, 1, 4, 1, 1, 1, 1, 1, 2, 1, 1, 1, 1, 1, 1, 1, 1, 1, 1, 1, 1, 1, 1, 1, 1, 1, 1, 1, 1, 2, 2, 1, 4, 1, 1, 1, 3, 1, 4, 2, 1, 1, 1, 1, 1, 2, 2, 2, 1, 1, 1, 3, 1, 1, 1, 1, 1, 1, 1, 1, 3, 2, 1, 1, 2, 1, 1, 2, 1, 1, 2, 1, 1, 1, 1, 1, 1, 1, 1, 1, 1, 1, 1, 1, 1, 1, 1, 2, 1, 1, 2, 1, 1, 2, 4, 1, 4, 1, 1, 1, 1, 1, 1, 1, 1, 1, 1, 1, 1, 2, 2, 2, 1, 1, 1, 1, 1, 1, 2, 2, 3, 3, 4, 4, 4, 16, 2, 1, 1, 1, 1, 1, 3, 1, 1, 1, 1, 1, 1, 2, 2, 2, 1, 3, 1, 1, 2, 2, 2, 1, 3, 1, 1, 2, 1, 3, 3, 3, 1, 1, 1, 1, 1, 1, 1, 1, 2, 2, 1, 3, 1, 1, 1, 1, 1, 1, 1, 1, 1, 1, 1, 1, 1, 1, 1, 1, 1, 1, 1, 1, 1, 1, 1, 1, 1, 1, 1, 1, 1, 1, 2, 1, 1, 1, 1, 1, 1, 1, 1, 1, 3, 1, 3, 1, 1, 1, 1, 1, 1, 1, 1, 1, 1, 1, 1, 1, 1, 1, 1, 1, 1, 1, 1, 2, 1, 1, 1, 1, 1, 1, 1, 1, 1, 1, 1, 1, 1, 1, 1, 1, 1, 1, 1, 1, 1, 1, 1, 1, 1, 1, 1, 1, 1, 3, 1, 1, 1, 9, 2, 3, 1, 1, 3, 2, 1, 2, 3, 1, 1, 1, 1, 2, 1, 2, 3, 1, 1, 1, 1, 1, 2, 2, 2, 2, 1, 1, 2, 2, 1, 1, 3, 1, 1, 4, 1, 3, 2, 2, 2, 1, 1, 3, 1, 2, 2, 1, 1, 1, 3, 1, 1, 1, 3, 1, 1, 1, 1, 1, 1, 1, 1, 1, 1, 1, 1, 1, 1, 1, 1, 1, 1, 1, 1, 1, 3, 1, 6, 1, 1, 1, 1, 2, 2, 1, 1, 1, 1, 2, 1, 1, 1, 1, 1, 1, 1, 1, 1, 1, 1, 1, 1, 1, 1, 1, 1, 1, 1, 1, 2, 2, 2, 1, 1, 2, 2, 1, 1, 2, 1, 2, 1, 1, 1, 1, 1, 6, 1, 1, 1, 1, 1, 1, 1, 1, 2, 1, 1, 1, 1, 1, 1, 1, 2, 1, 1, 1, 1, 1, 1, 1, 1, 1, 1, 2, 1, 1, 2, 2, 2, 1, 1, 1, 1, 1, 1, 1, 1, 1, 1, 1, 2, 1, 1, 1, 1, 1, 1, 1, 1, 1, 1, 1, 1, 1, 1, 1, 1, 1, 1, 1, 1, 1, 1, 1, 1, 1, 1, 1, 1, 1, 1, 1, 1, 1, 1, 1, 3, 1, 1, 1, 1, 1, 1, 1, 1, 1, 1, 1, 1, 1, 1, 1, 1, 1, 1, 1, 1, 1, 1, 1, 1, 1, 1, 1, 1, 1, 1, 1, 1, 1, 1, 1, 1, 1, 1, 1, 1, 1, 1, 1, 1, 1, 1, 1, 1, 1, 1, 1, 1, 1, 1, 1, 1, 1, 1, 1, 1, 1, 1, 1, 1, 1, 1, 1, 2, 1, 1, 1, 1, 1, 1, 1, 1, 1, 1, 1, 1, 1, 1, 1, 1, 1, 1, 1, 1, 1, 1, 1, 1, 1, 2, 1, 1, 1, 1, 1, 1, 1, 1, 1, 1, 1, 1, 1, 1, 1, 1, 1, 1, 1, 1, 1, 1, 1]]}\n"
     ]
    }
   ],
   "source": [
    "from sklearn.feature_extraction import stop_words\n",
    "bow = get_bow_from_docs([\n",
    "        #'www.coursereport.com_ironhack.html',\n",
    "        #'en.wikipedia.org_Data_analysis.html',\n",
    "        'www.lipsum.com.html'\n",
    "    ], stop_words.ENGLISH_STOP_WORDS\n",
    ")\n",
    "\n",
    "print(bow)"
   ]
  },
  {
   "cell_type": "markdown",
   "metadata": {},
   "source": [
    "Do you see any problem in the output? How do you improve the output?\n",
    "\n",
    "A good way to improve your codes is to look into the HTML data sources and try to understand where the messy output came from. A good data analyst always learns about the data in depth in order to perform the job well.\n",
    "\n",
    "Spend 20-30 minutes to improve your functions or until you feel you are good at string operations. This lab is just a practice so you don't need to stress yourself out. If you feel you've practiced enough you can stop and move on the next challenge question."
   ]
  },
  {
   "cell_type": "code",
   "execution_count": null,
   "metadata": {},
   "outputs": [],
   "source": []
  }
 ],
 "metadata": {
  "kernelspec": {
   "display_name": "Python 3",
   "language": "python",
   "name": "python3"
  },
  "language_info": {
   "codemirror_mode": {
    "name": "ipython",
    "version": 3
   },
   "file_extension": ".py",
   "mimetype": "text/x-python",
   "name": "python",
   "nbconvert_exporter": "python",
   "pygments_lexer": "ipython3",
   "version": "3.7.5"
  }
 },
 "nbformat": 4,
 "nbformat_minor": 2
}
