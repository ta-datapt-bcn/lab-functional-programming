{
 "cells": [
  {
   "cell_type": "markdown",
   "metadata": {},
   "source": [
    "In the cell below, create a Python function that wraps your previous solution for the Bag of Words lab.\n",
    "\n",
    "Requirements:\n",
    "\n",
    "1. Your function should accept the following parameters:\n",
    "    * `docs` [REQUIRED] - array of document paths.\n",
    "    * `stop_words` [OPTIONAL] - array of stop words. The default value is an empty array.\n",
    "\n",
    "1. Your function should return a Python object that contains the following:\n",
    "    * `bag_of_words` - array of strings of normalized unique words in the corpus.\n",
    "    * `term_freq` - array of the term-frequency vectors."
   ]
  },
  {
   "cell_type": "code",
   "execution_count": 63,
   "metadata": {
    "ExecuteTime": {
     "end_time": "2020-01-10T18:12:24.355009Z",
     "start_time": "2020-01-10T18:12:24.335129Z"
    }
   },
   "outputs": [],
   "source": [
    "# Import required libraries\n",
    "\n",
    "# Define function\n",
    "def get_bow_from_docs(docs, stop_words=[]):\n",
    "    \n",
    "    # In the function, first define the variables you will use such as `corpus`, `bag_of_words`, and `term_freq`.\n",
    "    #asdf df####\n",
    "    \n",
    "    \"\"\"\n",
    "    Loop `docs` and read the content of each doc into a string in `corpus`.\n",
    "    Remember to convert the doc content to lowercases and remove punctuation.\n",
    "    \"\"\"\n",
    "    import os\n",
    "    import re\n",
    "\n",
    "    corpus=[open(file_name,'r').read().lower() for file_name in docs]\n",
    "    \n",
    "    #result = re.sub(r\"\\w\",\"\", text, flags = re.I)\n",
    "    #result = re.sub(r\"[,@\\'?\\.$%_]\", \"\", text, flags=re.I)\n",
    "    #quiza mas facil hacer un sub con ^ y todo carater alfanumerico\n",
    "    #pq sacar las puntuaciones en vez de ya hacer un array con todas las palabras sueltas?\n",
    "  \n",
    "    corpus=[re.sub(r\"[,@\\'?\\.$%_:;]\", \"\",i) for i in corpus]\n",
    "    \n",
    "    \"\"\"\n",
    "    Loop `corpus`. Append the terms in each doc into the `bag_of_words` array. The terms in `bag_of_words` \n",
    "    should be unique which means before adding each term you need to check if it's already added to the array.\n",
    "    In addition, check if each term is in the `stop_words` array. Only append the term to `bag_of_words`\n",
    "    if it is not a stop word.\n",
    "    \"\"\"    \n",
    "\n",
    "    # Write your code here\n",
    "\n",
    "    all_words=[re.findall('\\w+',i) for i in corpus]\n",
    "    bag_of_words=sorted(list(set([word for array in all_words for word in array])))\n",
    "    bag_of_words=list(set(bag_of_words)-set(stop_words))\n",
    "    \n",
    "    \"\"\"\n",
    "    Loop `corpus` again. For each doc string, count the number of occurrences of each term in `bag_of_words`. \n",
    "    Create an array for each doc's term frequency and append it to `term_freq`.\n",
    "    \"\"\"\n",
    "    term_freq = []\n",
    "    \n",
    "    count=0\n",
    "    for array in all_words:\n",
    "        array2=[]\n",
    "        for word2 in bag_of_words:\n",
    "            count=0\n",
    "            for word in array:\n",
    "                if word==word2:\n",
    "                    count=+1\n",
    "            array2.append(count)\n",
    "        term_freq.append(array2)\n",
    "\n",
    "    \n",
    "    \n",
    "    # Now return your output as an object\n",
    "    return {\n",
    "        \"bag_of_words\": bag_of_words,\n",
    "        \"term_freq\": term_freq\n",
    "    }\n"
   ]
  },
  {
   "cell_type": "markdown",
   "metadata": {},
   "source": [
    "Test your function without stop words. You should see the output like below:\n",
    "\n",
    "```{'bag_of_words': ['ironhack', 'is', 'cool', 'i', 'love', 'am', 'a', 'student', 'at'], 'term_freq': [[1, 1, 1, 0, 0, 0, 0, 0, 0], [1, 0, 0, 1, 1, 0, 0, 0, 0], [1, 0, 0, 1, 0, 1, 1, 1, 1]]}```"
   ]
  },
  {
   "cell_type": "code",
   "execution_count": 64,
   "metadata": {
    "ExecuteTime": {
     "end_time": "2020-01-10T18:12:25.775667Z",
     "start_time": "2020-01-10T18:12:25.764689Z"
    }
   },
   "outputs": [
    {
     "name": "stdout",
     "output_type": "stream",
     "text": [
      "{'bag_of_words': ['is', 'student', 'love', 'cool', 'i', 'ironhack', 'am', 'at', 'a'], 'term_freq': [[1, 0, 0, 1, 0, 1, 0, 0, 0], [0, 0, 1, 0, 1, 1, 0, 0, 0], [0, 1, 0, 0, 1, 1, 1, 1, 1]]}\n"
     ]
    }
   ],
   "source": [
    "# Define doc paths array\n",
    "docs = ['doc1.txt', 'doc2.txt', 'doc3.txt']\n",
    "\n",
    "# Obtain BoW from your function\n",
    "bow = get_bow_from_docs(docs)\n",
    "\n",
    "# Print BoW\n",
    "print(bow)"
   ]
  },
  {
   "cell_type": "markdown",
   "metadata": {},
   "source": [
    "If your attempt above is successful, nice work done!\n",
    "\n",
    "Now test your function again with the stop words. In the previous lab we defined the stop words in a large array. In this lab, we'll import the stop words from Scikit-Learn."
   ]
  },
  {
   "cell_type": "code",
   "execution_count": 65,
   "metadata": {
    "ExecuteTime": {
     "end_time": "2020-01-10T18:12:26.812919Z",
     "start_time": "2020-01-10T18:12:26.804687Z"
    }
   },
   "outputs": [
    {
     "name": "stdout",
     "output_type": "stream",
     "text": [
      "frozenset({'next', 'though', 'very', 'moreover', 'herself', 'would', 'someone', 'ten', 'which', 'whenever', 'below', 'much', 'too', 'however', 'take', 'how', 'it', 'within', 'due', 'what', 'amoungst', 'anything', 'onto', 'yourself', 'in', 'me', 'neither', 'thus', 'move', 'whose', 'full', 'became', 'wherever', 'eg', 'found', 'down', 'anywhere', 'ever', 'except', 'as', 'sometime', 'hereafter', 'even', 'formerly', 'any', 'on', 'six', 'into', 'etc', 'beforehand', 'beyond', 'hereupon', 'him', 'himself', 'three', 'hasnt', 'thereby', 'their', 'of', 'interest', 'therefore', 'un', 'also', 'upon', 'anyone', 'ie', 'co', 'so', 'her', 'everything', 'find', 'therein', 'become', 'eight', 'everyone', 'during', 'indeed', 'around', 'whereby', 'am', 'your', 'fill', 'a', 'should', 'to', 'hereby', 'were', 'describe', 'but', 'couldnt', 'more', 'otherwise', 'latter', 'behind', 'once', 'mill', 'cry', 'name', 'this', 'yours', 'two', 'others', 'and', 'detail', 'always', 'call', 'namely', 'or', 'against', 'everywhere', 'con', 'please', 'one', 'twenty', 'nowhere', 'thin', 'an', 'such', 'ourselves', 'with', 'yourselves', 'several', 'themselves', 'fifty', 'my', 'afterwards', 'seemed', 'per', 'was', 'amount', 'fifteen', 'former', 'made', 'without', 'some', 'thereafter', 'somehow', 'may', 'them', 'are', 'those', 'whatever', 'already', 'rather', 'you', 'elsewhere', 'perhaps', 'put', 'noone', 'is', 'whither', 'whereafter', 'hers', 'by', 'thereupon', 'besides', 'than', 'front', 'only', 'then', 'among', 'no', 'none', 'sometimes', 'top', 'thick', 'third', 'ours', 'most', 'hundred', 'both', 'every', 'across', 'bill', 'they', 'other', 'along', 'another', 'serious', 'thence', 'why', 'all', 'she', 'again', 'give', 'between', 'each', 'almost', 'own', 'since', 'latterly', 'becomes', 'about', 'seeming', 'forty', 'alone', 'us', 'see', 'his', 'when', 'nevertheless', 'empty', 'first', 'cannot', 'keep', 'that', 'nine', 'whoever', 'meanwhile', 'the', 'thru', 'mine', 'often', 'above', 'nobody', 'mostly', 'show', 'beside', 'being', 'amongst', 'i', 'do', 'fire', 'same', 'after', 'might', 'seem', 'have', 'done', 'from', 'before', 'must', 'he', 'sincere', 'never', 'these', 'ltd', 'can', 'itself', 'hence', 'whence', 'get', 'toward', 'if', 'at', 'seems', 'where', 'myself', 'off', 'whereupon', 'anyway', 'de', 'less', 'inc', 'wherein', 'twelve', 'side', 'enough', 'has', 'system', 'via', 'over', 'here', 'else', 'who', 'now', 'although', 'back', 'be', 'yet', 'becoming', 'could', 'herein', 're', 'towards', 'until', 'had', 'our', 'something', 'many', 'for', 'part', 'sixty', 'whom', 'together', 'throughout', 'well', 'still', 'will', 'its', 'either', 'somewhere', 'through', 'nothing', 'whereas', 'nor', 'while', 'whole', 'there', 'because', 'cant', 'not', 'whether', 'we', 'least', 'last', 'anyhow', 'go', 'bottom', 'eleven', 'four', 'further', 'been', 'few', 'out', 'up', 'under', 'five'})\n"
     ]
    }
   ],
   "source": [
    "from sklearn.feature_extraction import stop_words\n",
    "print(stop_words.ENGLISH_STOP_WORDS)"
   ]
  },
  {
   "cell_type": "markdown",
   "metadata": {},
   "source": [
    "You should have seen a large list of words that looks like:\n",
    "\n",
    "```frozenset({'across', 'mine', 'cannot', ...})```\n",
    "\n",
    "`frozenset` is a type of Python object that is immutable. In this lab you can use it just like an array without conversion."
   ]
  },
  {
   "cell_type": "markdown",
   "metadata": {},
   "source": [
    "Next, test your function with supplying `stop_words.ENGLISH_STOP_WORDS` as the second parameter."
   ]
  },
  {
   "cell_type": "code",
   "execution_count": 60,
   "metadata": {
    "ExecuteTime": {
     "end_time": "2020-01-10T18:11:40.181619Z",
     "start_time": "2020-01-10T18:11:40.169888Z"
    }
   },
   "outputs": [
    {
     "name": "stdout",
     "output_type": "stream",
     "text": [
      "{'bag_of_words': ['love', 'ironhack', 'cool', 'student'], 'term_freq': [[0, 1, 1, 0], [1, 1, 0, 0], [0, 1, 0, 1]]}\n"
     ]
    }
   ],
   "source": [
    "bow = get_bow_from_docs(docs, stop_words.ENGLISH_STOP_WORDS)\n",
    "\n",
    "print(bow)"
   ]
  },
  {
   "cell_type": "markdown",
   "metadata": {},
   "source": [
    "You should have seen:\n",
    "\n",
    "```{'bag_of_words': ['ironhack', 'cool', 'love', 'student'], 'term_freq': [[1, 1, 0, 0], [1, 0, 1, 0], [1, 0, 0, 1]]}```"
   ]
  }
 ],
 "metadata": {
  "kernelspec": {
   "display_name": "Python 3",
   "language": "python",
   "name": "python3"
  },
  "language_info": {
   "codemirror_mode": {
    "name": "ipython",
    "version": 3
   },
   "file_extension": ".py",
   "mimetype": "text/x-python",
   "name": "python",
   "nbconvert_exporter": "python",
   "pygments_lexer": "ipython3",
   "version": "3.7.4"
  },
  "toc": {
   "base_numbering": 1,
   "nav_menu": {},
   "number_sections": true,
   "sideBar": true,
   "skip_h1_title": false,
   "title_cell": "Table of Contents",
   "title_sidebar": "Contents",
   "toc_cell": false,
   "toc_position": {},
   "toc_section_display": true,
   "toc_window_display": false
  },
  "varInspector": {
   "cols": {
    "lenName": 16,
    "lenType": 16,
    "lenVar": 40
   },
   "kernels_config": {
    "python": {
     "delete_cmd_postfix": "",
     "delete_cmd_prefix": "del ",
     "library": "var_list.py",
     "varRefreshCmd": "print(var_dic_list())"
    },
    "r": {
     "delete_cmd_postfix": ") ",
     "delete_cmd_prefix": "rm(",
     "library": "var_list.r",
     "varRefreshCmd": "cat(var_dic_list()) "
    }
   },
   "types_to_exclude": [
    "module",
    "function",
    "builtin_function_or_method",
    "instance",
    "_Feature"
   ],
   "window_display": false
  }
 },
 "nbformat": 4,
 "nbformat_minor": 2
}
