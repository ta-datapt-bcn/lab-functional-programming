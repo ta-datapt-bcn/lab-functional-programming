{
 "cells": [
  {
   "cell_type": "markdown",
   "metadata": {},
   "source": [
    "In the cell below, create a Python function that wraps your previous solution for the Bag of Words lab.\n",
    "\n",
    "Requirements:\n",
    "\n",
    "1. Your function should accept the following parameters:\n",
    "    * `docs` [REQUIRED] - array of document paths.\n",
    "    * `stop_words` [OPTIONAL] - array of stop words. The default value is an empty array.\n",
    "\n",
    "1. Your function should return a Python object that contains the following:\n",
    "    * `bag_of_words` - array of strings of normalized unique words in the corpus.\n",
    "    * `term_freq` - array of the term-frequency vectors."
   ]
  },
  {
   "cell_type": "code",
   "execution_count": 58,
   "metadata": {},
   "outputs": [
    {
     "name": "stdout",
     "output_type": "stream",
     "text": [
      "{'bag_of_words': ['Ironhack', 'is', 'cool.', 'I', 'love', 'Ironhack.', 'am', 'a', 'student', 'at'], 'term_freq': [[1, 1, 1, 0, 0, 0, 0, 0, 0, 0], [0, 0, 0, 1, 1, 1, 0, 0, 0, 0], [0, 0, 0, 1, 0, 1, 1, 1, 1, 1]]}\n"
     ]
    }
   ],
   "source": [
    "# Import required libraries\n",
    "\n",
    "\n",
    "# Define function\n",
    "def get_bow_from_docs(docs, stop_words=[]):\n",
    "    \n",
    "    # In the function, first define the variables you will use such as `corpus`, `bag_of_words`, and `term_freq`.\n",
    "    \n",
    "    docs = ['doc1.txt', 'doc2.txt', 'doc3.txt']\n",
    "    corpus = []\n",
    "    bag_of_words = []\n",
    "    term_freq = []\n",
    "    \n",
    "    \"\"\"\n",
    "    Loop `docs` and read the content of each doc into a string in `corpus`.\n",
    "    Remember to convert the doc content to lowercases and remove punctuation.\n",
    "    \"\"\"\n",
    "\n",
    "    for doc in docs:                                #loop docs and read content\n",
    "        with open(doc,\"r\") as f:\n",
    "            lines = f.readlines()\n",
    "            for line in lines:\n",
    "                corpus.append(line)   \n",
    "                \n",
    "    for corp in corpus:                             #convert to lower cases and remove punctuation\n",
    "        corp = corp.lower().replace('.', '')            \n",
    "    \n",
    "    \"\"\"\n",
    "    Loop `corpus`. Append the terms in each doc into the `bag_of_words` array. The terms in `bag_of_words` \n",
    "    should be unique which means before adding each term you need to check if it's already added to the array.\n",
    "    In addition, check if each term is in the `stop_words` array. Only append the term to `bag_of_words`\n",
    "    if it is not a stop word.\n",
    "    \"\"\"\n",
    "\n",
    "    for corp in corpus:\n",
    "        corp2 = corp.split()\n",
    "        for c in corp2:                                  #adding terms to bag_of_words if not \n",
    "            if c not in bag_of_words:\n",
    "                bag_of_words.append(c)\n",
    "            \n",
    "    for word in bag_of_words:\n",
    "        if word in stop_words:\n",
    "            bag_of_words.remove(word)                #removing stop words of bag_of_words\n",
    "\n",
    "    \n",
    "    \"\"\"\n",
    "    Loop `corpus` again. For each doc string, count the number of occurrences of each term in `bag_of_words`. \n",
    "    Create an array for each doc's term frequency and append it to `term_freq`.\n",
    "    \"\"\"\n",
    "    for i in corpus:\n",
    "        lst= []\n",
    "        for word in bag_of_words:\n",
    "            lst.append(i.split().count(word))\n",
    "        term_freq.append(lst)   \n",
    "    \n",
    "    # Now return your output as an object\n",
    "    return {\n",
    "        \"bag_of_words\": bag_of_words,\n",
    "        \"term_freq\": term_freq\n",
    "    }\n",
    "\n",
    "print(get_bow_from_docs(docs,stop_words=[]))"
   ]
  },
  {
   "cell_type": "markdown",
   "metadata": {},
   "source": [
    "Test your function without stop words. You should see the output like below:\n",
    "\n",
    "```{'bag_of_words': ['ironhack', 'is', 'cool', 'i', 'love', 'am', 'a', 'student', 'at'], 'term_freq': [[1, 1, 1, 0, 0, 0, 0, 0, 0], [1, 0, 0, 1, 1, 0, 0, 0, 0], [1, 0, 0, 1, 0, 1, 1, 1, 1]]}```"
   ]
  },
  {
   "cell_type": "code",
   "execution_count": 60,
   "metadata": {},
   "outputs": [
    {
     "name": "stdout",
     "output_type": "stream",
     "text": [
      "{'bag_of_words': ['Ironhack', 'is', 'cool.', 'I', 'love', 'Ironhack.', 'am', 'a', 'student', 'at'], 'term_freq': [[1, 1, 1, 0, 0, 0, 0, 0, 0, 0], [0, 0, 0, 1, 1, 1, 0, 0, 0, 0], [0, 0, 0, 1, 0, 1, 1, 1, 1, 1]]}\n"
     ]
    }
   ],
   "source": [
    "# Define doc paths array\n",
    "docs = []\n",
    "\n",
    "# Obtain BoW from your function\n",
    "bow = get_bow_from_docs(docs)\n",
    "\n",
    "# Print BoW\n",
    "print(bow)"
   ]
  },
  {
   "cell_type": "markdown",
   "metadata": {},
   "source": [
    "If your attempt above is successful, nice work done!\n",
    "\n",
    "Now test your function again with the stop words. In the previous lab we defined the stop words in a large array. In this lab, we'll import the stop words from Scikit-Learn."
   ]
  },
  {
   "cell_type": "code",
   "execution_count": 64,
   "metadata": {},
   "outputs": [
    {
     "name": "stdout",
     "output_type": "stream",
     "text": [
      "frozenset({'up', 'ie', 'bottom', 'neither', 'through', 'there', 'none', 'to', 'will', 'seemed', 'ltd', 'meanwhile', 'six', 'could', 'first', 'around', 'of', 'would', 'nowhere', 'some', 'becoming', 'therein', 'under', 'almost', 'because', 'myself', 'something', 'interest', 'less', 'he', 'twenty', 'him', 'ten', 'cry', 'by', 'three', 'too', 'as', 'behind', 'here', 'are', 'how', 'inc', 'see', 'even', 'very', 'name', 'etc', 'whether', 'except', 'elsewhere', 'thence', 'among', 'them', 'bill', 'anyway', 'ours', 'such', 'somehow', 'below', 'well', 'sometime', 'several', 'in', 'thus', 'do', 'namely', 'describe', 'fire', 'de', 'nine', 'least', 'last', 'about', 'off', 'this', 'and', 'never', 'latter', 'now', 'due', 'wherein', 'hereafter', 'four', 'whereafter', 'am', 'eg', 'one', 'find', 'along', 'hers', 'move', 'upon', 'down', 'on', 'forty', 'top', 'mill', 'seeming', 'thru', 'two', 'whereupon', 'her', 'co', 'amount', 'con', 'whoever', 'what', 'yours', 'whereas', 'show', 'already', 'when', 'they', 'the', 'thereby', 'beside', 'whom', 'sincere', 'somewhere', 'another', 'noone', 'but', 'also', 'put', 'whence', 'system', 'go', 'we', 'so', 'twelve', 'many', 'had', 'take', 'others', 'sometimes', 'until', 'alone', 'whole', 'part', 'have', 'eleven', 'from', 'those', 'whose', 'nevertheless', 'into', 'more', 'hasnt', 'side', 'both', 'found', 'whither', 'has', 'which', 'against', 'wherever', 'between', 'onto', 'herein', 'herself', 'themselves', 'same', 'all', 'much', 'nor', 'been', 'other', 'me', 'back', 'himself', 'where', 'empty', 'otherwise', 'most', 'fill', 'hence', 'nobody', 'done', 'out', 'anyhow', 'before', 'third', 'once', 'serious', 'mine', 'thin', 'only', 'un', 'can', 'during', 'yourselves', 'someone', 'anything', 'again', 'besides', 'might', 'indeed', 'made', 'or', 'with', 'though', 'fifteen', 'formerly', 'via', 'become', 'thereupon', 'call', 'ourselves', 'is', 'at', 'therefore', 'amoungst', 'thereafter', 'was', 'each', 'everywhere', 'toward', 'enough', 'however', 'thick', 'rather', 'my', 'since', 'front', 'else', 'own', 'were', 'anywhere', 'you', 'an', 'eight', 'keep', 'everything', 'became', 'not', 'cannot', 'its', 'no', 'that', 'than', 'detail', 'above', 'cant', 'beforehand', 'while', 'who', 'becomes', 'she', 'hundred', 'everyone', 'towards', 'beyond', 'for', 'then', 'itself', 'it', 'your', 'their', 'former', 're', 'perhaps', 'within', 'five', 'seem', 'nothing', 'being', 'either', 'any', 'fifty', 'these', 'full', 'often', 'please', 'a', 'hereupon', 'further', 'whereby', 'be', 'every', 'us', 'throughout', 'amongst', 'whatever', 'if', 'ever', 'together', 'afterwards', 'latterly', 'sixty', 'still', 'whenever', 'couldnt', 'our', 'must', 'hereby', 'may', 'after', 'over', 'moreover', 'without', 'few', 'yet', 'always', 'his', 'across', 'seems', 'should', 'although', 'why', 'get', 'yourself', 'next', 'anyone', 'per', 'i', 'give', 'mostly'})\n"
     ]
    },
    {
     "name": "stderr",
     "output_type": "stream",
     "text": [
      "/usr/local/lib/python3.7/site-packages/sklearn/utils/deprecation.py:144: FutureWarning: The sklearn.feature_extraction.stop_words module is  deprecated in version 0.22 and will be removed in version 0.24. The corresponding classes / functions should instead be imported from sklearn.feature_extraction.text. Anything that cannot be imported from sklearn.feature_extraction.text is now part of the private API.\n",
      "  warnings.warn(message, FutureWarning)\n"
     ]
    }
   ],
   "source": [
    "from sklearn.feature_extraction import stop_words\n",
    "print(stop_words.ENGLISH_STOP_WORDS)"
   ]
  },
  {
   "cell_type": "markdown",
   "metadata": {},
   "source": [
    "You should have seen a large list of words that looks like:\n",
    "\n",
    "```frozenset({'across', 'mine', 'cannot', ...})```\n",
    "\n",
    "`frozenset` is a type of Python object that is immutable. In this lab you can use it just like an array without conversion."
   ]
  },
  {
   "cell_type": "markdown",
   "metadata": {},
   "source": [
    "Next, test your function with supplying `stop_words.ENGLISH_STOP_WORDS` as the second parameter."
   ]
  },
  {
   "cell_type": "code",
   "execution_count": 65,
   "metadata": {},
   "outputs": [
    {
     "name": "stdout",
     "output_type": "stream",
     "text": [
      "{'bag_of_words': ['Ironhack', 'cool.', 'I', 'love', 'Ironhack.', 'a', 'student'], 'term_freq': [[1, 1, 0, 0, 0, 0, 0], [0, 0, 1, 1, 1, 0, 0], [0, 0, 1, 0, 1, 1, 1]]}\n"
     ]
    }
   ],
   "source": [
    "bow = get_bow_from_docs(docs, stop_words.ENGLISH_STOP_WORDS)\n",
    "\n",
    "print(bow)"
   ]
  },
  {
   "cell_type": "markdown",
   "metadata": {},
   "source": [
    "You should have seen:\n",
    "\n",
    "```{'bag_of_words': ['ironhack', 'cool', 'love', 'student'], 'term_freq': [[1, 1, 0, 0], [1, 0, 1, 0], [1, 0, 0, 1]]}```"
   ]
  }
 ],
 "metadata": {
  "kernelspec": {
   "display_name": "Python 3",
   "language": "python",
   "name": "python3"
  },
  "language_info": {
   "codemirror_mode": {
    "name": "ipython",
    "version": 3
   },
   "file_extension": ".py",
   "mimetype": "text/x-python",
   "name": "python",
   "nbconvert_exporter": "python",
   "pygments_lexer": "ipython3",
   "version": "3.7.5"
  }
 },
 "nbformat": 4,
 "nbformat_minor": 2
}
