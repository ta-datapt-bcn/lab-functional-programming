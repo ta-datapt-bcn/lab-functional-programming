{
 "cells": [
  {
   "cell_type": "markdown",
   "metadata": {},
   "source": [
    "In the cell below, create a Python function that wraps your previous solution for the Bag of Words lab.\n",
    "\n",
    "Requirements:\n",
    "\n",
    "1. Your function should accept the following parameters:\n",
    "    * `docs` [REQUIRED] - array of document paths.\n",
    "    * `stop_words` [OPTIONAL] - array of stop words. The default value is an empty array.\n",
    "\n",
    "1. Your function should return a Python object that contains the following:\n",
    "    * `bag_of_words` - array of strings of normalized unique words in the corpus.\n",
    "    * `term_freq` - array of the term-frequency vectors."
   ]
  },
  {
   "cell_type": "code",
   "execution_count": 56,
   "metadata": {},
   "outputs": [],
   "source": [
    "# Import required libraries\n",
    "import re\n",
    "\n",
    "# Define function\n",
    "def get_bow_from_docs(docs, stop_words=[]):\n",
    "    \n",
    "    # In the function, first define the variables you will use such as `corpus`, `bag_of_words`, and `term_freq`.\n",
    "    \n",
    "    corpus = []\n",
    "    bag_of_words = []\n",
    "    term_freq = []\n",
    "    freq0= []\n",
    "    freq1 = []\n",
    "    freq2 = []\n",
    "    \n",
    "    \"\"\"\n",
    "    Loop `docs` and read the content of each doc into a string in `corpus`.\n",
    "    Remember to convert the doc content to lowercases and remove punctuation.\n",
    "    \"\"\"\n",
    "    for i in range(3):\n",
    "        f = open(docs[i], \"r\")\n",
    "        corpus.append(f.read())\n",
    "\n",
    "    \n",
    "    corpus1 = []\n",
    "    for i in range(3):\n",
    "        corpus[i] = re.sub(\"\\.\", \"\", corpus[i])\n",
    "        corpus1.append(corpus[i].lower())\n",
    "\n",
    "    corpus = corpus1\n",
    "    \n",
    "    \"\"\"\n",
    "    Loop `corpus`. Append the terms in each doc into the `bag_of_words` array. The terms in `bag_of_words` \n",
    "    should be unique which means before adding each term you need to check if it's already added to the array.\n",
    "    In addition, check if each term is in the `stop_words` array. Only append the term to `bag_of_words`\n",
    "    if it is not a stop word.\n",
    "    \"\"\"\n",
    "    for i in range(len(corpus)):\n",
    "        corpus[i] = corpus[i].split()\n",
    "\n",
    "    for x in corpus:\n",
    "        for i in x:\n",
    "            if i not in bag_of_words:\n",
    "                bag_of_words.append(i)\n",
    "                \n",
    "    better_bag_of_words = []\n",
    "\n",
    "    for i in bag_of_words:\n",
    "        if i not in stop_words:\n",
    "            better_bag_of_words.append(i)        \n",
    "\n",
    "    bag_of_words = better_bag_of_words\n",
    "    \n",
    "    \"\"\"\n",
    "    Loop `corpus` again. For each doc string, count the number of occurrences of each term in `bag_of_words`. \n",
    "    Create an array for each doc's term frequency and append it to `term_freq`.\n",
    "    \"\"\"\n",
    "\n",
    "    for i in bag_of_words:\n",
    "        if i in corpus[0]:\n",
    "            freq0.append(1)\n",
    "        else:\n",
    "            freq0.append(0)\n",
    "        \n",
    "    for i in bag_of_words:\n",
    "        if i in corpus[1]:\n",
    "            freq1.append(1)\n",
    "        else:\n",
    "            freq1.append(0)\n",
    "        \n",
    "    for i in bag_of_words:\n",
    "        if i in corpus[2]:\n",
    "            freq2.append(1)\n",
    "        else:\n",
    "            freq2.append(0)\n",
    "\n",
    "    term_freq.append(freq0)\n",
    "    term_freq.append(freq1)\n",
    "    term_freq.append(freq2)\n",
    "    \n",
    "# Now return your output as an object\n",
    "    return {\n",
    "        \"bag_of_words\": bag_of_words,\n",
    "        \"term_freq\": term_freq\n",
    "    }\n",
    "\n"
   ]
  },
  {
   "cell_type": "markdown",
   "metadata": {},
   "source": [
    "Test your function without stop words. You should see the output like below:\n",
    "\n",
    "```{'bag_of_words': ['ironhack', 'is', 'cool', 'i', 'love', 'am', 'a', 'student', 'at'], 'term_freq': [[1, 1, 1, 0, 0, 0, 0, 0, 0], [1, 0, 0, 1, 1, 0, 0, 0, 0], [1, 0, 0, 1, 0, 1, 1, 1, 1]]}```"
   ]
  },
  {
   "cell_type": "code",
   "execution_count": 57,
   "metadata": {},
   "outputs": [
    {
     "name": "stdout",
     "output_type": "stream",
     "text": [
      "{'bag_of_words': ['ironhack', 'is', 'cool', 'i', 'love', 'am', 'a', 'student', 'at'], 'term_freq': [[1, 1, 1, 0, 0, 0, 0, 0, 0], [1, 0, 0, 1, 1, 0, 0, 0, 0], [1, 0, 0, 1, 0, 1, 1, 1, 1]]}\n"
     ]
    }
   ],
   "source": [
    "# Define doc paths array\n",
    "docs = ['doc1.txt', 'doc2.txt', 'doc3.txt']\n",
    "# Obtain BoW from your function\n",
    "bow = get_bow_from_docs(docs)\n",
    "\n",
    "# Print BoW\n",
    "print(bow)"
   ]
  },
  {
   "cell_type": "markdown",
   "metadata": {},
   "source": [
    "If your attempt above is successful, nice work done!\n",
    "\n",
    "Now test your function again with the stop words. In the previous lab we defined the stop words in a large array. In this lab, we'll import the stop words from Scikit-Learn."
   ]
  },
  {
   "cell_type": "code",
   "execution_count": 53,
   "metadata": {
    "scrolled": true
   },
   "outputs": [
    {
     "name": "stdout",
     "output_type": "stream",
     "text": [
      "frozenset({'and', 'thence', 'together', 'system', 'seems', 'third', 'well', 'behind', 'ie', 'whereby', 'latter', 'cannot', 'whither', 'yourself', 'amongst', 'whereas', 'neither', 'twelve', 'while', 'enough', 'me', 'becomes', 'either', 'describe', 'us', 'of', 'since', 'themselves', 'when', 'others', 'an', 'per', 'your', 'other', 'keep', 'empty', 'fill', 'yours', 'then', 'four', 'down', 'one', 'hereafter', 'anything', 'yourselves', 'against', 'nevertheless', 'amoungst', 'seem', 'them', 'co', 'their', 'seeming', 'eight', 'every', 'last', 'both', 'almost', 'de', 'here', 'someone', 'ever', 'have', 'many', 'about', 'else', 'interest', 'never', 'the', 'another', 'nor', 'get', 'so', 'may', 'herself', 'in', 'noone', 'six', 'mill', 'except', 'am', 'before', 'wherever', 'find', 'across', 'fire', 'he', 'i', 'from', 'through', 'a', 'same', 'with', 'if', 'thereafter', 'below', 'always', 'not', 'often', 'as', 'became', 'rather', 'made', 'former', 'they', 'somehow', 'fifteen', 'detail', 'con', 'however', 'beforehand', 'how', 'side', 're', 'bill', 'once', 'during', 'between', 'its', 'she', 'amount', 'nobody', 'becoming', 'among', 'herein', 'we', 'until', 'please', 'everything', 'himself', 'put', 'such', 'top', 'could', 'elsewhere', 'thus', 'move', 'only', 'even', 'mine', 'whereupon', 'hundred', 'sincere', 'still', 'be', 'perhaps', 'our', 'on', 'thereby', 'five', 'sometimes', 'ten', 'via', 'three', 'you', 'under', 'formerly', 'whom', 'show', 'done', 'up', 'most', 'by', 'thin', 'thick', 'without', 'nine', 'whether', 'whose', 'hence', 'myself', 'throughout', 'some', 'un', 'next', 'everyone', 'off', 'being', 'each', 'hers', 'been', 'further', 'are', 'were', 'thereupon', 'over', 'otherwise', 'two', 'serious', 'hereupon', 'part', 'alone', 'meanwhile', 'would', 'it', 'none', 'do', 'at', 'which', 'whoever', 'anyway', 'back', 'something', 'had', 'eleven', 'several', 'this', 'moreover', 'why', 'more', 'beyond', 'might', 'is', 'front', 'cant', 'although', 'now', 'within', 'give', 'wherein', 'too', 'these', 'own', 'no', 'who', 'but', 'ours', 'again', 'any', 'after', 'whereafter', 'call', 'anywhere', 'first', 'afterwards', 'hereby', 'those', 'inc', 'anyone', 'beside', 'than', 'that', 'nothing', 'much', 'to', 'onto', 'bottom', 'upon', 'sixty', 'see', 'towards', 'her', 'cry', 'found', 'name', 'my', 'very', 'because', 'his', 'mostly', 'for', 'anyhow', 'thru', 'somewhere', 'toward', 'least', 'less', 'nowhere', 'above', 'into', 'already', 'what', 'forty', 'twenty', 'sometime', 'along', 'few', 'there', 'also', 'whence', 'around', 'yet', 'whatever', 'should', 'ourselves', 'him', 'indeed', 'namely', 'will', 'couldnt', 'must', 'all', 'itself', 'or', 'therefore', 'whole', 'was', 'go', 'take', 'where', 'though', 'full', 'can', 'etc', 'become', 'eg', 'due', 'everywhere', 'besides', 'hasnt', 'out', 'fifty', 'seemed', 'latterly', 'therein', 'has', 'ltd', 'whenever'})\n"
     ]
    },
    {
     "name": "stderr",
     "output_type": "stream",
     "text": [
      "/usr/local/lib/python3.7/site-packages/sklearn/utils/deprecation.py:144: FutureWarning: The sklearn.feature_extraction.stop_words module is  deprecated in version 0.22 and will be removed in version 0.24. The corresponding classes / functions should instead be imported from sklearn.feature_extraction.text. Anything that cannot be imported from sklearn.feature_extraction.text is now part of the private API.\n",
      "  warnings.warn(message, FutureWarning)\n"
     ]
    }
   ],
   "source": [
    "from sklearn.feature_extraction import stop_words\n",
    "print(stop_words.ENGLISH_STOP_WORDS)"
   ]
  },
  {
   "cell_type": "markdown",
   "metadata": {},
   "source": [
    "You should have seen a large list of words that looks like:\n",
    "\n",
    "```frozenset({'across', 'mine', 'cannot', ...})```\n",
    "\n",
    "`frozenset` is a type of Python object that is immutable. In this lab you can use it just like an array without conversion."
   ]
  },
  {
   "cell_type": "markdown",
   "metadata": {},
   "source": [
    "Next, test your function with supplying `stop_words.ENGLISH_STOP_WORDS` as the second parameter."
   ]
  },
  {
   "cell_type": "code",
   "execution_count": 58,
   "metadata": {},
   "outputs": [
    {
     "name": "stdout",
     "output_type": "stream",
     "text": [
      "{'bag_of_words': ['ironhack', 'cool', 'love', 'student'], 'term_freq': [[1, 1, 0, 0], [1, 0, 1, 0], [1, 0, 0, 1]]}\n"
     ]
    }
   ],
   "source": [
    "bow = get_bow_from_docs(docs, stop_words.ENGLISH_STOP_WORDS)\n",
    "\n",
    "print(bow)"
   ]
  },
  {
   "cell_type": "markdown",
   "metadata": {},
   "source": [
    "You should have seen:\n",
    "\n",
    "```{'bag_of_words': ['ironhack', 'cool', 'love', 'student'], 'term_freq': [[1, 1, 0, 0], [1, 0, 1, 0], [1, 0, 0, 1]]}```"
   ]
  }
 ],
 "metadata": {
  "kernelspec": {
   "display_name": "Python 3",
   "language": "python",
   "name": "python3"
  },
  "language_info": {
   "codemirror_mode": {
    "name": "ipython",
    "version": 3
   },
   "file_extension": ".py",
   "mimetype": "text/x-python",
   "name": "python",
   "nbconvert_exporter": "python",
   "pygments_lexer": "ipython3",
   "version": "3.7.5"
  }
 },
 "nbformat": 4,
 "nbformat_minor": 2
}
