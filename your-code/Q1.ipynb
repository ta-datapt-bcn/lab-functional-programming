{
 "cells": [
  {
   "cell_type": "markdown",
   "metadata": {},
   "source": [
    "In the cell below, create a Python function that wraps your previous solution for the Bag of Words lab.\n",
    "\n",
    "Requirements:\n",
    "\n",
    "1. Your function should accept the following parameters:\n",
    "    * `docs` [REQUIRED] - array of document paths.\n",
    "    * `stop_words` [OPTIONAL] - array of stop words. The default value is an empty array.\n",
    "\n",
    "1. Your function should return a Python object that contains the following:\n",
    "    * `bag_of_words` - array of strings of normalized unique words in the corpus.\n",
    "    * `term_freq` - array of the term-frequency vectors."
   ]
  },
  {
   "cell_type": "code",
   "execution_count": 26,
   "metadata": {
    "ExecuteTime": {
     "end_time": "2020-01-11T23:27:56.434531Z",
     "start_time": "2020-01-11T23:27:56.422163Z"
    }
   },
   "outputs": [],
   "source": [
    "# Import required libraries\n",
    "\n",
    "import numpy as np\n",
    "import pandas as pd\n",
    "import re\n",
    "\n",
    "# Define function\n",
    "def get_bow_from_docs(docs, stop_words=[]):\n",
    "    \n",
    "    # In the function, first define the variables you will use such as `corpus`, `bag_of_words`, and `term_freq`.\n",
    "    \n",
    "    corpus = []\n",
    "    corpus2 = []\n",
    "    corpus3 = []\n",
    "    bag_of_words = []\n",
    "    term_freq = []\n",
    "    \n",
    "    \"\"\"\n",
    "    Loop `docs` and read the content of each doc into a string in `corpus`.\n",
    "    Remember to convert the doc content to lowercases and remove punctuation.\n",
    "    \"\"\"\n",
    "    for doc in docs:\n",
    "        doc_open = open(doc,\"r+\")\n",
    "        corpus.append(doc_open.read())\n",
    "     \n",
    "    for i in corpus: # Convertimos corpus a lowercase y quitamos puntuación.\n",
    "        corp = i.lower().replace('.','')\n",
    "    \n",
    "    \n",
    "    \"\"\"\n",
    "    Loop `corpus`. Append the terms in each doc into the `bag_of_words` array. The terms in `bag_of_words` \n",
    "    should be unique which means before adding each term you need to check if it's already added to the array.\n",
    "    In addition, check if each term is in the `stop_words` array. Only append the term to `bag_of_words`\n",
    "    if it is not a stop word.\n",
    "    \"\"\"\n",
    "\n",
    "    for i in corpus:\n",
    "        terms = i.split() # split los elementos de corpus en lo que estamos buscando, terms.\n",
    "        for term in terms:\n",
    "            if term not in bag_of_words and term not in stop_words: # si no está en ninguna de las dos, añadimos el term.\n",
    "                bag_of_words.append(term)\n",
    "    \n",
    "    \n",
    "    \"\"\"\n",
    "    Loop `corpus` again. For each doc string, count the number of occurrences of each term in `bag_of_words`. \n",
    "    Create an array for each doc's term frequency and append it to `term_freq`.\n",
    "    \"\"\"\n",
    "\n",
    "    for i in corpus:\n",
    "        terms = i.split() # split los elementos de corpus que comprobaremos cuantas veces se repiten en bag_of_words.   \n",
    "                        \n",
    "    for word in bag_of_words:\n",
    "        term_freq.append(term.count(word)) # recorreriamos cada word de bag_of_words\n",
    "                                           # lo contamos en terms y lo añadimos a term_freq\n",
    "    \n",
    "    \n",
    "    # Now return your output as an object\n",
    "    return {\n",
    "        \"bag_of_words\": bag_of_words,\n",
    "        \"term_freq\": term_freq\n",
    "    }\n",
    "\n",
    "# No me sale. Revisar."
   ]
  },
  {
   "cell_type": "markdown",
   "metadata": {},
   "source": [
    "Test your function without stop words. You should see the output like below:\n",
    "\n",
    "```{'bag_of_words': ['ironhack', 'is', 'cool', 'i', 'love', 'am', 'a', 'student', 'at'], 'term_freq': [[1, 1, 1, 0, 0, 0, 0, 0, 0], [1, 0, 0, 1, 1, 0, 0, 0, 0], [1, 0, 0, 1, 0, 1, 1, 1, 1]]}```"
   ]
  },
  {
   "cell_type": "code",
   "execution_count": 29,
   "metadata": {
    "ExecuteTime": {
     "end_time": "2020-01-11T23:30:45.134114Z",
     "start_time": "2020-01-11T23:30:45.113244Z"
    }
   },
   "outputs": [
    {
     "ename": "FileNotFoundError",
     "evalue": "[Errno 2] No such file or directory: '/../../lab-string-operations/your-code/doc1.txt'",
     "output_type": "error",
     "traceback": [
      "\u001b[0;31m---------------------------------------------------------------------------\u001b[0m",
      "\u001b[0;31mFileNotFoundError\u001b[0m                         Traceback (most recent call last)",
      "\u001b[0;32m<ipython-input-29-63e586d6b0ea>\u001b[0m in \u001b[0;36m<module>\u001b[0;34m\u001b[0m\n\u001b[1;32m      9\u001b[0m \u001b[0;34m\u001b[0m\u001b[0m\n\u001b[1;32m     10\u001b[0m \u001b[0;31m# Obtain BoW from your function\u001b[0m\u001b[0;34m\u001b[0m\u001b[0;34m\u001b[0m\u001b[0;34m\u001b[0m\u001b[0m\n\u001b[0;32m---> 11\u001b[0;31m \u001b[0mbow\u001b[0m \u001b[0;34m=\u001b[0m \u001b[0mget_bow_from_docs\u001b[0m\u001b[0;34m(\u001b[0m\u001b[0mdocs\u001b[0m\u001b[0;34m)\u001b[0m\u001b[0;34m\u001b[0m\u001b[0;34m\u001b[0m\u001b[0m\n\u001b[0m\u001b[1;32m     12\u001b[0m \u001b[0;34m\u001b[0m\u001b[0m\n\u001b[1;32m     13\u001b[0m \u001b[0;31m# Print BoW\u001b[0m\u001b[0;34m\u001b[0m\u001b[0;34m\u001b[0m\u001b[0;34m\u001b[0m\u001b[0m\n",
      "\u001b[0;32m<ipython-input-26-c769c7ee7c90>\u001b[0m in \u001b[0;36mget_bow_from_docs\u001b[0;34m(docs, stop_words)\u001b[0m\n\u001b[1;32m     21\u001b[0m     \"\"\"\n\u001b[1;32m     22\u001b[0m     \u001b[0;32mfor\u001b[0m \u001b[0mdoc\u001b[0m \u001b[0;32min\u001b[0m \u001b[0mdocs\u001b[0m\u001b[0;34m:\u001b[0m\u001b[0;34m\u001b[0m\u001b[0;34m\u001b[0m\u001b[0m\n\u001b[0;32m---> 23\u001b[0;31m         \u001b[0mdoc_open\u001b[0m \u001b[0;34m=\u001b[0m \u001b[0mopen\u001b[0m\u001b[0;34m(\u001b[0m\u001b[0mdoc\u001b[0m\u001b[0;34m,\u001b[0m\u001b[0;34m\"r+\"\u001b[0m\u001b[0;34m)\u001b[0m\u001b[0;34m\u001b[0m\u001b[0;34m\u001b[0m\u001b[0m\n\u001b[0m\u001b[1;32m     24\u001b[0m         \u001b[0mcorpus\u001b[0m\u001b[0;34m.\u001b[0m\u001b[0mappend\u001b[0m\u001b[0;34m(\u001b[0m\u001b[0mdoc_open\u001b[0m\u001b[0;34m.\u001b[0m\u001b[0mread\u001b[0m\u001b[0;34m(\u001b[0m\u001b[0;34m)\u001b[0m\u001b[0;34m)\u001b[0m\u001b[0;34m\u001b[0m\u001b[0;34m\u001b[0m\u001b[0m\n\u001b[1;32m     25\u001b[0m \u001b[0;34m\u001b[0m\u001b[0m\n",
      "\u001b[0;31mFileNotFoundError\u001b[0m: [Errno 2] No such file or directory: '/../../lab-string-operations/your-code/doc1.txt'"
     ]
    }
   ],
   "source": [
    "# Define doc paths array\n",
    "\n",
    "import os\n",
    "docs = ['/../../lab-string-operations/your-code/doc1.txt',\n",
    "        '/../../lab-string-operations/your-code/doc2.txt',\n",
    "        '/../../lab-string-operations/your-code/doc3.txt'] \n",
    "\n",
    "# No sé si es esto lo que se pide...Revisar si es esto y cómo poner bien el path.\n",
    "\n",
    "# Obtain BoW from your function\n",
    "bow = get_bow_from_docs(docs)\n",
    "\n",
    "# Print BoW\n",
    "print(bow)"
   ]
  },
  {
   "cell_type": "markdown",
   "metadata": {},
   "source": [
    "If your attempt above is successful, nice work done!\n",
    "\n",
    "Now test your function again with the stop words. In the previous lab we defined the stop words in a large array. In this lab, we'll import the stop words from Scikit-Learn."
   ]
  },
  {
   "cell_type": "code",
   "execution_count": 22,
   "metadata": {
    "ExecuteTime": {
     "end_time": "2020-01-11T22:53:23.363642Z",
     "start_time": "2020-01-11T22:53:23.353043Z"
    }
   },
   "outputs": [
    {
     "name": "stdout",
     "output_type": "stream",
     "text": [
      "frozenset({'afterwards', 'that', 'whatever', 'too', 'than', 'me', 'three', 'so', 'throughout', 'call', 'anywhere', 'first', 'couldnt', 'around', 'themselves', 'while', 'except', 're', 'go', 'who', 'amoungst', 'made', 'wherein', 'everywhere', 'in', 'forty', 'here', 'thin', 'thru', 'would', 'and', 'whereupon', 'inc', 'keep', 'which', 'when', 'its', 'describe', 'eight', 'them', 'everything', 'name', 'has', 'an', 'ourselves', 'am', 'thence', 'get', 'along', 'elsewhere', 'less', 'without', 'to', 'done', 'move', 'something', 'own', 'toward', 'for', 'anyhow', 'anything', 'although', 'but', 'below', 'nor', 'herein', 'hence', 'almost', 'either', 'above', 'fill', 'next', 'latterly', 'their', 'again', 'ie', 'now', 'into', 'not', 'another', 'show', 'more', 'very', 'fifty', 'most', 'was', 'always', 'nothing', 'once', 'are', 'meanwhile', 'whoever', 'becoming', 'mostly', 'become', 'up', 'hers', 'wherever', 'do', 'other', 'take', 'others', 'at', 'down', 'upon', 'under', 'twenty', 'us', 'amount', 'con', 'front', 'every', 'five', 'what', 'also', 'everyone', 'whence', 'seems', 'were', 'they', 'could', 'few', 'cannot', 'perhaps', 'namely', 'yet', 'ten', 'these', 'empty', 'none', 'herself', 'yours', 'how', 'with', 'whose', 'same', 'ever', 'latter', 'whenever', 'much', 'eleven', 'fire', 'your', 'though', 'it', 'of', 'be', 'may', 'over', 'well', 'out', 'beyond', 'via', 'seemed', 'found', 'one', 'often', 'seeming', 'through', 'moreover', 'thick', 'whom', 'amongst', 'a', 'alone', 'eg', 'where', 'part', 'enough', 'interest', 'many', 'him', 'during', 'un', 'anyway', 'hereby', 'somewhere', 'i', 'seem', 'by', 'indeed', 'find', 'still', 'put', 'why', 'hasnt', 'because', 'per', 'becomes', 'as', 'sometimes', 'formerly', 'therefore', 'bill', 'see', 'yourself', 'within', 'been', 'nevertheless', 'after', 'some', 'else', 'such', 'onto', 'from', 'towards', 'his', 'whole', 'de', 'mill', 'might', 'nobody', 'top', 'rather', 'give', 'whereas', 'both', 'cry', 'former', 'please', 'should', 'therein', 'together', 'hundred', 'is', 'ltd', 'no', 'otherwise', 'our', 'least', 'behind', 'six', 'beforehand', 'noone', 'co', 'neither', 'already', 'she', 'someone', 'full', 'itself', 'nine', 'further', 'mine', 'somehow', 'third', 'my', 'detail', 'whether', 'whereby', 'we', 'those', 'this', 'however', 'became', 'ours', 'cant', 'must', 'since', 'nowhere', 'several', 'he', 'anyone', 'across', 'even', 'whereafter', 'last', 'you', 'fifteen', 'myself', 'yourselves', 'on', 'then', 'thus', 'can', 'had', 'system', 'himself', 'thereupon', 'whither', 'beside', 'off', 'besides', 'about', 'among', 'against', 'serious', 'due', 'hereupon', 'being', 'each', 'never', 'any', 'four', 'two', 'there', 'bottom', 'sometime', 'until', 'hereafter', 'only', 'thereby', 'will', 'have', 'sixty', 'or', 'side', 'back', 'thereafter', 'all', 'etc', 'sincere', 'between', 'twelve', 'if', 'the', 'before', 'her'})\n"
     ]
    }
   ],
   "source": [
    "from sklearn.feature_extraction import stop_words\n",
    "print(stop_words.ENGLISH_STOP_WORDS)"
   ]
  },
  {
   "cell_type": "markdown",
   "metadata": {},
   "source": [
    "You should have seen a large list of words that looks like:\n",
    "\n",
    "```frozenset({'across', 'mine', 'cannot', ...})```\n",
    "\n",
    "`frozenset` is a type of Python object that is immutable. In this lab you can use it just like an array without conversion."
   ]
  },
  {
   "cell_type": "markdown",
   "metadata": {},
   "source": [
    "Next, test your function with supplying `stop_words.ENGLISH_STOP_WORDS` as the second parameter."
   ]
  },
  {
   "cell_type": "code",
   "execution_count": 23,
   "metadata": {
    "ExecuteTime": {
     "end_time": "2020-01-11T22:53:43.634517Z",
     "start_time": "2020-01-11T22:53:43.593051Z"
    }
   },
   "outputs": [
    {
     "ename": "NameError",
     "evalue": "name 'get_bow_from_docs' is not defined",
     "output_type": "error",
     "traceback": [
      "\u001b[0;31m---------------------------------------------------------------------------\u001b[0m",
      "\u001b[0;31mNameError\u001b[0m                                 Traceback (most recent call last)",
      "\u001b[0;32m<ipython-input-23-ee417a53d78c>\u001b[0m in \u001b[0;36m<module>\u001b[0;34m\u001b[0m\n\u001b[0;32m----> 1\u001b[0;31m \u001b[0mbow\u001b[0m \u001b[0;34m=\u001b[0m \u001b[0mget_bow_from_docs\u001b[0m\u001b[0;34m(\u001b[0m\u001b[0mdocs\u001b[0m\u001b[0;34m,\u001b[0m \u001b[0mstop_words\u001b[0m\u001b[0;34m.\u001b[0m\u001b[0mENGLISH_STOP_WORDS\u001b[0m\u001b[0;34m)\u001b[0m\u001b[0;34m\u001b[0m\u001b[0;34m\u001b[0m\u001b[0m\n\u001b[0m\u001b[1;32m      2\u001b[0m \u001b[0;34m\u001b[0m\u001b[0m\n\u001b[1;32m      3\u001b[0m \u001b[0mprint\u001b[0m\u001b[0;34m(\u001b[0m\u001b[0mbow\u001b[0m\u001b[0;34m)\u001b[0m\u001b[0;34m\u001b[0m\u001b[0;34m\u001b[0m\u001b[0m\n",
      "\u001b[0;31mNameError\u001b[0m: name 'get_bow_from_docs' is not defined"
     ]
    }
   ],
   "source": [
    "bow = get_bow_from_docs(docs, stop_words.ENGLISH_STOP_WORDS)\n",
    "\n",
    "print(bow)"
   ]
  },
  {
   "cell_type": "markdown",
   "metadata": {},
   "source": [
    "You should have seen:\n",
    "\n",
    "```{'bag_of_words': ['ironhack', 'cool', 'love', 'student'], 'term_freq': [[1, 1, 0, 0], [1, 0, 1, 0], [1, 0, 0, 1]]}```"
   ]
  }
 ],
 "metadata": {
  "kernelspec": {
   "display_name": "Python 3",
   "language": "python",
   "name": "python3"
  },
  "language_info": {
   "codemirror_mode": {
    "name": "ipython",
    "version": 3
   },
   "file_extension": ".py",
   "mimetype": "text/x-python",
   "name": "python",
   "nbconvert_exporter": "python",
   "pygments_lexer": "ipython3",
   "version": "3.8.0"
  },
  "toc": {
   "base_numbering": 1,
   "nav_menu": {},
   "number_sections": true,
   "sideBar": true,
   "skip_h1_title": false,
   "title_cell": "Table of Contents",
   "title_sidebar": "Contents",
   "toc_cell": false,
   "toc_position": {},
   "toc_section_display": true,
   "toc_window_display": false
  },
  "varInspector": {
   "cols": {
    "lenName": 16,
    "lenType": 16,
    "lenVar": 40
   },
   "kernels_config": {
    "python": {
     "delete_cmd_postfix": "",
     "delete_cmd_prefix": "del ",
     "library": "var_list.py",
     "varRefreshCmd": "print(var_dic_list())"
    },
    "r": {
     "delete_cmd_postfix": ") ",
     "delete_cmd_prefix": "rm(",
     "library": "var_list.r",
     "varRefreshCmd": "cat(var_dic_list()) "
    }
   },
   "types_to_exclude": [
    "module",
    "function",
    "builtin_function_or_method",
    "instance",
    "_Feature"
   ],
   "window_display": false
  }
 },
 "nbformat": 4,
 "nbformat_minor": 2
}
