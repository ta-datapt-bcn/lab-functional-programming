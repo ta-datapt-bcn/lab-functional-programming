{
 "cells": [
  {
   "cell_type": "markdown",
   "metadata": {},
   "source": [
    "In the cell below, create a Python function that wraps your previous solution for the Bag of Words lab.\n",
    "\n",
    "Requirements:\n",
    "\n",
    "1. Your function should accept the following parameters:\n",
    "    * `docs` [REQUIRED] - array of document paths.\n",
    "    * `stop_words` [OPTIONAL] - array of stop words. The default value is an empty array.\n",
    "\n",
    "1. Your function should return a Python object that contains the following:\n",
    "    * `bag_of_words` - array of strings of normalized unique words in the corpus.\n",
    "    * `term_freq` - array of the term-frequency vectors."
   ]
  },
  {
   "cell_type": "code",
   "execution_count": 88,
   "metadata": {},
   "outputs": [],
   "source": [
    "# Import required libraries\n",
    "import re \n",
    "\n",
    "# Define function\n",
    "def get_bow_from_docs(docs, stop_words=[]):\n",
    "    \n",
    "    # In the function, first define the variables you will use such as `corpus`, `bag_of_words`, and `term_freq`.\n",
    "    corpus = []\n",
    "    bag_of_words = []\n",
    "    term_freq = []\n",
    "    \n",
    "    \"\"\"\n",
    "    Loop `docs` and read the content of each doc into a string in `corpus`.\n",
    "    Remember to convert the doc content to lowercases and remove punctuation.\n",
    "    \"\"\"\n",
    "\n",
    "    for doc in docs:\n",
    "        doc_file = open(doc,\"r\")\n",
    "        doc_string = doc_file.read()\n",
    "        corpus.append(doc_string.lower().replace(\".\", \"\"))\n",
    "        \n",
    "    \"\"\"\n",
    "    Loop `corpus`. Append the terms in each doc into the `bag_of_words` array. The terms in `bag_of_words` \n",
    "    should be unique which means before adding each term you need to check if it's already added to the array.\n",
    "    In addition, check if each term is in the `stop_words` array. Only append the term to `bag_of_words`\n",
    "    if it is not a stop word.\n",
    "    \"\"\"\n",
    "\n",
    "    for phrase in corpus:\n",
    "        for word in phrase.split():\n",
    "            if bag_of_words.count(word) == 0 and word not in stop_words:\n",
    "                bag_of_words.append(word)\n",
    "    \n",
    "    \"\"\"\n",
    "    Loop `corpus` again. For each doc string, count the number of occurrences of each term in `bag_of_words`. \n",
    "    Create an array for each doc's term frequency and append it to `term_freq`.\n",
    "    \"\"\"\n",
    "    \n",
    "    for phrase in corpus:\n",
    "        term_frequency = []\n",
    "        phrase_splitted = phrase.split()\n",
    "        for term in bag_of_words:\n",
    "            term_frequency.append(phrase_splitted.count(term))\n",
    "        term_freq.append(term_frequency)\n",
    "    \n",
    "    # Now return your output as an object\n",
    "    return {\n",
    "        \"bag_of_words\": bag_of_words,\n",
    "        \"term_freq\": term_freq\n",
    "    }\n",
    "    "
   ]
  },
  {
   "cell_type": "markdown",
   "metadata": {},
   "source": [
    "Test your function without stop words. You should see the output like below:\n",
    "\n",
    "```{'bag_of_words': ['ironhack', 'is', 'cool', 'i', 'love', 'am', 'a', 'student', 'at'], 'term_freq': [[1, 1, 1, 0, 0, 0, 0, 0, 0], [1, 0, 0, 1, 1, 0, 0, 0, 0], [1, 0, 0, 1, 0, 1, 1, 1, 1]]}```"
   ]
  },
  {
   "cell_type": "code",
   "execution_count": 89,
   "metadata": {},
   "outputs": [
    {
     "name": "stdout",
     "output_type": "stream",
     "text": [
      "{'bag_of_words': ['ironhack', 'is', 'cool', 'i', 'love', 'am', 'a', 'student', 'at'], 'term_freq': [[1, 1, 1, 0, 0, 0, 0, 0, 0], [1, 0, 0, 1, 1, 0, 0, 0, 0], [1, 0, 0, 1, 0, 1, 1, 1, 1]]}\n"
     ]
    }
   ],
   "source": [
    "# Define doc paths array\n",
    "docs = ['doc1.txt', 'doc2.txt', 'doc3.txt']\n",
    "\n",
    "# Obtain BoW from your function\n",
    "bow = get_bow_from_docs(docs)\n",
    "\n",
    "# Print BoW\n",
    "print(bow)"
   ]
  },
  {
   "cell_type": "markdown",
   "metadata": {},
   "source": [
    "If your attempt above is successful, nice work done!\n",
    "\n",
    "Now test your function again with the stop words. In the previous lab we defined the stop words in a large array. In this lab, we'll import the stop words from Scikit-Learn."
   ]
  },
  {
   "cell_type": "code",
   "execution_count": 90,
   "metadata": {},
   "outputs": [
    {
     "name": "stdout",
     "output_type": "stream",
     "text": [
      "frozenset({'anyway', 'eleven', 'towards', 'rather', 'empty', 'same', 'others', 'wherever', 'neither', 'anything', 'then', 'con', 'take', 'de', 'where', 'several', 'cannot', 'whose', 'under', 'when', 'both', 'co', 'much', 'often', 'found', 'sometimes', 'only', 'thru', 'other', 'more', 'becomes', 'mostly', 'if', 'however', 'front', 'all', 'hers', 'because', 'bill', 'against', 'and', 'after', 'sixty', 'side', 'somehow', 'full', 'fifteen', 'less', 'ltd', 'whether', 'indeed', 'before', 'whereupon', 'would', 'its', 'of', 'were', 'alone', 'un', 'thereafter', 'why', 'fifty', 'too', 'very', 'fill', 'may', 'onto', 'due', 'below', 'at', 'cry', 'yet', 'therein', 'bottom', 'yourselves', 'they', 'become', 'every', 'been', 'there', 'who', 'meanwhile', 'these', 'off', 'this', 'anyhow', 'over', 'perhaps', 'toward', 'ever', 'a', 'yourself', 'up', 'around', 'everything', 'becoming', 'nothing', 'via', 'with', 'further', 'himself', 'namely', 'such', 'although', 'enough', 'thick', 'part', 'afterwards', 'those', 'own', 'inc', 'ours', 'call', 'thus', 'not', 'out', 'someone', 'hereby', 'whom', 'still', 'system', 'should', 'amongst', 'nine', 'herself', 'top', 'through', 'done', 'an', 'twelve', 'by', 'many', 'i', 'two', 'besides', 'most', 'third', 'since', 'themselves', 'might', 'last', 'her', 'per', 'about', 'again', 'has', 'hundred', 'none', 'is', 'beforehand', 'one', 'either', 'thereupon', 'him', 'no', 'anywhere', 'former', 'your', 'until', 'had', 'otherwise', 'each', 'as', 'hence', 'three', 'therefore', 'which', 'among', 'latterly', 'than', 'please', 'eight', 'go', 'though', 'put', 'whole', 'could', 'whoever', 'amoungst', 'seem', 'mill', 'detail', 'even', 'thence', 'are', 'wherein', 'etc', 'formerly', 'itself', 'always', 'while', 'made', 'whatever', 'our', 'whence', 'across', 'during', 'we', 'hereupon', 'amount', 'am', 'interest', 'it', 'yours', 'least', 'fire', 'latter', 'forty', 'be', 'keep', 'describe', 'to', 'ourselves', 'moreover', 'never', 'cant', 'how', 'next', 'five', 'whither', 'have', 'within', 'almost', 'do', 'thereby', 'twenty', 'my', 'us', 'whereby', 'them', 'above', 'back', 'also', 'she', 'was', 'will', 'whereas', 'first', 'seeming', 'well', 'eg', 'seemed', 'find', 'name', 'somewhere', 'already', 'few', 'noone', 'must', 'except', 'together', 'without', 'you', 'from', 'for', 'give', 'anyone', 'nevertheless', 'throughout', 'seems', 'what', 'sometime', 'hereafter', 'nor', 'being', 'now', 'another', 'hasnt', 'ie', 'beyond', 'behind', 'nobody', 'everyone', 'he', 'get', 'ten', 'something', 'into', 'here', 'some', 'serious', 'me', 'nowhere', 'in', 'couldnt', 'herein', 'mine', 'along', 'between', 'myself', 'six', 'that', 'on', 'whenever', 'any', 'four', 'see', 'or', 'show', 'else', 'upon', 'but', 'sincere', 'their', 'thin', 're', 'everywhere', 'whereafter', 'elsewhere', 'so', 'his', 'once', 'down', 'move', 'became', 'the', 'beside', 'can'})\n"
     ]
    }
   ],
   "source": [
    "from sklearn.feature_extraction import stop_words\n",
    "print(stop_words.ENGLISH_STOP_WORDS)"
   ]
  },
  {
   "cell_type": "markdown",
   "metadata": {},
   "source": [
    "You should have seen a large list of words that looks like:\n",
    "\n",
    "```frozenset({'across', 'mine', 'cannot', ...})```\n",
    "\n",
    "`frozenset` is a type of Python object that is immutable. In this lab you can use it just like an array without conversion."
   ]
  },
  {
   "cell_type": "markdown",
   "metadata": {},
   "source": [
    "Next, test your function with supplying `stop_words.ENGLISH_STOP_WORDS` as the second parameter."
   ]
  },
  {
   "cell_type": "code",
   "execution_count": 91,
   "metadata": {},
   "outputs": [
    {
     "name": "stdout",
     "output_type": "stream",
     "text": [
      "{'bag_of_words': ['ironhack', 'cool', 'love', 'student'], 'term_freq': [[1, 1, 0, 0], [1, 0, 1, 0], [1, 0, 0, 1]]}\n"
     ]
    }
   ],
   "source": [
    "bow = get_bow_from_docs(docs, stop_words.ENGLISH_STOP_WORDS)\n",
    "\n",
    "print(bow)"
   ]
  },
  {
   "cell_type": "markdown",
   "metadata": {},
   "source": [
    "You should have seen:\n",
    "\n",
    "```{'bag_of_words': ['ironhack', 'cool', 'love', 'student'], 'term_freq': [[1, 1, 0, 0], [1, 0, 1, 0], [1, 0, 0, 1]]}```"
   ]
  },
  {
   "cell_type": "code",
   "execution_count": null,
   "metadata": {
    "collapsed": true
   },
   "outputs": [],
   "source": []
  }
 ],
 "metadata": {
  "kernelspec": {
   "display_name": "Python 3",
   "language": "python",
   "name": "python3"
  },
  "language_info": {
   "codemirror_mode": {
    "name": "ipython",
    "version": 3
   },
   "file_extension": ".py",
   "mimetype": "text/x-python",
   "name": "python",
   "nbconvert_exporter": "python",
   "pygments_lexer": "ipython3",
   "version": "3.7.4"
  }
 },
 "nbformat": 4,
 "nbformat_minor": 2
}
