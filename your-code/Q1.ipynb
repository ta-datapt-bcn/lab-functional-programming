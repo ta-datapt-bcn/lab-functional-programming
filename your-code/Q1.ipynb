{
 "cells": [
  {
   "cell_type": "markdown",
   "metadata": {},
   "source": [
    "In the cell below, create a Python function that wraps your previous solution for the Bag of Words lab.\n",
    "\n",
    "Requirements:\n",
    "\n",
    "1. Your function should accept the following parameters:\n",
    "    * `docs` [REQUIRED] - array of document paths.\n",
    "    * `stop_words` [OPTIONAL] - array of stop words. The default value is an empty array.\n",
    "\n",
    "1. Your function should return a Python object that contains the following:\n",
    "    * `bag_of_words` - array of strings of normalized unique words in the corpus.\n",
    "    * `term_freq` - array of the term-frequency vectors."
   ]
  },
  {
   "cell_type": "code",
   "execution_count": 1,
   "metadata": {
    "ExecuteTime": {
     "end_time": "2020-01-10T17:52:43.025276Z",
     "start_time": "2020-01-10T17:52:43.010316Z"
    }
   },
   "outputs": [],
   "source": [
    "# Import required libraries\n",
    "import re\n",
    "docs = ['doc1.txt', 'doc2.txt', 'doc3.txt']\n",
    "# Define function\n",
    "def get_bow_from_docs(docs, stop_words=[]):\n",
    "    \n",
    "    # In the function, first define the variables you will use such as `corpus`, `bag_of_words`, and `term_freq`.\n",
    "    corpus = []\n",
    "    bag_of_words = []\n",
    "    term_freq = []\n",
    "    \n",
    "    \"\"\"\n",
    "    Loop `docs` and read the content of each doc into a string in `corpus`.\n",
    "    Remember to convert the doc content to lowercases and remove punctuation.\n",
    "    \"\"\"\n",
    "    \n",
    "    for i in docs:\n",
    "        f = open(i, 'r')\n",
    "        corpus.append(f.read())\n",
    "        \n",
    "    for i in range(len(corpus)):\n",
    "        corpus[i] = corpus[i].lower()\n",
    "        if corpus[i].endswith('.'):\n",
    "            corpus[i] = corpus[i][:-1]\n",
    "        \n",
    "    \"\"\"\n",
    "    Loop `corpus`. Append the terms in each doc into the `bag_of_words` array. The terms in `bag_of_words` \n",
    "    should be unique which means before adding each term you need to check if it's already added to the array.\n",
    "    In addition, check if each term is in the `stop_words` array. Only append the term to `bag_of_words`\n",
    "    if it is not a stop word.\n",
    "    \"\"\"\n",
    "    \n",
    "    for i in corpus:\n",
    "        for j in i.split():\n",
    "            if j not in bag_of_words and j not in stop_words:\n",
    "                bag_of_words.append(j)\n",
    "    \n",
    "    \"\"\"\n",
    "    Loop `corpus` again. For each doc string, count the number of occurrences of each term in `bag_of_words`. \n",
    "    Create an array for each doc's term frequency and append it to `term_freq`.\n",
    "    \"\"\"\n",
    "    for i in corpus:\n",
    "        term_freq_doc = []\n",
    "        for j in bag_of_words:\n",
    "            term_freq_doc.append(i.split().count(j))\n",
    "        term_freq.append(term_freq_doc)\n",
    "    # Now return your output as an object\n",
    "    return {\n",
    "        \"bag_of_words\": bag_of_words,\n",
    "        \"term_freq\": term_freq\n",
    "    }\n",
    "    "
   ]
  },
  {
   "cell_type": "markdown",
   "metadata": {},
   "source": [
    "Test your function without stop words. You should see the output like below:\n",
    "\n",
    "```{'bag_of_words': ['ironhack', 'is', 'cool', 'i', 'love', 'am', 'a', 'student', 'at'], 'term_freq': [[1, 1, 1, 0, 0, 0, 0, 0, 0], [1, 0, 0, 1, 1, 0, 0, 0, 0], [1, 0, 0, 1, 0, 1, 1, 1, 1]]}```"
   ]
  },
  {
   "cell_type": "code",
   "execution_count": 2,
   "metadata": {
    "ExecuteTime": {
     "end_time": "2020-01-10T17:52:43.116624Z",
     "start_time": "2020-01-10T17:52:43.028268Z"
    }
   },
   "outputs": [
    {
     "name": "stdout",
     "output_type": "stream",
     "text": [
      "{'bag_of_words': ['ironhack', 'is', 'cool', 'i', 'love', 'am', 'a', 'student', 'at'], 'term_freq': [[1, 1, 1, 0, 0, 0, 0, 0, 0], [1, 0, 0, 1, 1, 0, 0, 0, 0], [1, 0, 0, 1, 0, 1, 1, 1, 1]]}\n"
     ]
    }
   ],
   "source": [
    "# Define doc paths array\n",
    "docs = ['doc1.txt', 'doc2.txt', 'doc3.txt']\n",
    "\n",
    "# Obtain BoW from your function\n",
    "bow = get_bow_from_docs(docs)\n",
    "\n",
    "# Print BoW\n",
    "print(bow)"
   ]
  },
  {
   "cell_type": "markdown",
   "metadata": {},
   "source": [
    "If your attempt above is successful, nice work done!\n",
    "\n",
    "Now test your function again with the stop words. In the previous lab we defined the stop words in a large array. In this lab, we'll import the stop words from Scikit-Learn."
   ]
  },
  {
   "cell_type": "code",
   "execution_count": 3,
   "metadata": {
    "ExecuteTime": {
     "end_time": "2020-01-10T17:52:44.552475Z",
     "start_time": "2020-01-10T17:52:43.120613Z"
    }
   },
   "outputs": [
    {
     "name": "stdout",
     "output_type": "stream",
     "text": [
      "frozenset({'except', 'been', 'otherwise', 'yet', 'might', 'during', 'too', 'here', 'us', 'thereupon', 'somehow', 'beside', 'yourselves', 'i', 'everyone', 'whether', 'thence', 'mostly', 'please', 'beforehand', 'everywhere', 'fifty', 'so', 'else', 'former', 'wherever', 'de', 'where', 'it', 'somewhere', 'between', 'off', 'along', 'sixty', 'elsewhere', 'beyond', 'who', 'serious', 'herein', 'none', 'down', 'once', 'can', 'hasnt', 'how', 'a', 'per', 'thus', 'since', 'ours', 'co', 'themselves', 'very', 'many', 'both', 'out', 'find', 'top', 'no', 'anything', 'such', 'thru', 'ltd', 're', 'side', 'through', 'moreover', 'amongst', 'system', 'last', 'six', 'others', 'already', 'amount', 'inc', 'into', 'own', 'interest', 'those', 'in', 'whole', 'found', 'detail', 'seems', 'ourselves', 'he', 'less', 'within', 'toward', 'is', 'first', 'front', 'himself', 'whence', 'eg', 'mill', 'wherein', 'thereby', 'becomes', 'one', 'move', 'thick', 'four', 'often', 'before', 'noone', 'from', 'few', 'some', 'each', 'fire', 'nothing', 'would', 'eight', 'behind', 'herself', 'onto', 'done', 'made', 'put', 'everything', 'if', 'below', 'nowhere', 'while', 'nevertheless', 'my', 'what', 'myself', 'on', 'only', 'whereupon', 'hereafter', 'against', 'bottom', 'twelve', 'cant', 'several', 'back', 'whose', 'upon', 'amoungst', 'seem', 'show', 'anyone', 'via', 'ie', 'seeming', 'this', 'hereupon', 'eleven', 'thin', 'without', 'anyhow', 'have', 'do', 'throughout', 'mine', 'hence', 'call', 'me', 'hereby', 'then', 'whoever', 'must', 'take', 'whereas', 'up', 'over', 'until', 'due', 'perhaps', 'nor', 'namely', 'as', 'couldnt', 'never', 'three', 'indeed', 'we', 'every', 'sometimes', 'was', 'fill', 'name', 'among', 'afterwards', 'something', 'not', 'their', 'see', 'next', 'keep', 'or', 'much', 'its', 'still', 'why', 'give', 'again', 'whatever', 'same', 'more', 'bill', 'which', 'has', 'when', 'could', 'fifteen', 'are', 'whereby', 'become', 'cry', 'these', 'therein', 'another', 'across', 'after', 'though', 'her', 'all', 'hers', 'well', 'neither', 'whenever', 'our', 'of', 'you', 'yourself', 'became', 'had', 'anyway', 'itself', 'third', 'formerly', 'were', 'describe', 'get', 'nobody', 'but', 'part', 'even', 'about', 'and', 'with', 'for', 'his', 'they', 'five', 'now', 'most', 'alone', 'any', 'sincere', 'therefore', 'above', 'being', 'latter', 'towards', 'least', 'should', 'ever', 'your', 'thereafter', 'under', 'almost', 'whereafter', 'the', 'latterly', 'may', 'she', 'either', 'anywhere', 'that', 'ten', 'always', 'an', 'whom', 'cannot', 'by', 'than', 'hundred', 'twenty', 'because', 'seemed', 'enough', 'two', 'will', 'other', 'meanwhile', 'at', 'am', 'be', 'around', 'there', 'besides', 'him', 'although', 'nine', 'rather', 'further', 'go', 'sometime', 'empty', 'con', 'someone', 'together', 'whither', 'un', 'forty', 'becoming', 'to', 'them', 'also', 'however', 'full', 'etc', 'yours'})\n"
     ]
    }
   ],
   "source": [
    "from sklearn.feature_extraction import stop_words\n",
    "print(stop_words.ENGLISH_STOP_WORDS)"
   ]
  },
  {
   "cell_type": "markdown",
   "metadata": {},
   "source": [
    "You should have seen a large list of words that looks like:\n",
    "\n",
    "```frozenset({'across', 'mine', 'cannot', ...})```\n",
    "\n",
    "`frozenset` is a type of Python object that is immutable. In this lab you can use it just like an array without conversion."
   ]
  },
  {
   "cell_type": "markdown",
   "metadata": {},
   "source": [
    "Next, test your function with supplying `stop_words.ENGLISH_STOP_WORDS` as the second parameter."
   ]
  },
  {
   "cell_type": "code",
   "execution_count": 4,
   "metadata": {
    "ExecuteTime": {
     "end_time": "2020-01-10T17:52:44.564415Z",
     "start_time": "2020-01-10T17:52:44.556434Z"
    }
   },
   "outputs": [
    {
     "name": "stdout",
     "output_type": "stream",
     "text": [
      "{'bag_of_words': ['ironhack', 'cool', 'love', 'student'], 'term_freq': [[1, 1, 0, 0], [1, 0, 1, 0], [1, 0, 0, 1]]}\n"
     ]
    }
   ],
   "source": [
    "\n",
    "bow = get_bow_from_docs(docs, stop_words.ENGLISH_STOP_WORDS)\n",
    "\n",
    "print(bow)"
   ]
  },
  {
   "cell_type": "markdown",
   "metadata": {},
   "source": [
    "You should have seen:\n",
    "\n",
    "```{'bag_of_words': ['ironhack', 'cool', 'love', 'student'], 'term_freq': [[1, 1, 0, 0], [1, 0, 1, 0], [1, 0, 0, 1]]}```"
   ]
  }
 ],
 "metadata": {
  "kernelspec": {
   "display_name": "Python 3",
   "language": "python",
   "name": "python3"
  },
  "language_info": {
   "codemirror_mode": {
    "name": "ipython",
    "version": 3
   },
   "file_extension": ".py",
   "mimetype": "text/x-python",
   "name": "python",
   "nbconvert_exporter": "python",
   "pygments_lexer": "ipython3",
   "version": "3.7.4"
  },
  "varInspector": {
   "cols": {
    "lenName": 16,
    "lenType": 16,
    "lenVar": 40
   },
   "kernels_config": {
    "python": {
     "delete_cmd_postfix": "",
     "delete_cmd_prefix": "del ",
     "library": "var_list.py",
     "varRefreshCmd": "print(var_dic_list())"
    },
    "r": {
     "delete_cmd_postfix": ") ",
     "delete_cmd_prefix": "rm(",
     "library": "var_list.r",
     "varRefreshCmd": "cat(var_dic_list()) "
    }
   },
   "types_to_exclude": [
    "module",
    "function",
    "builtin_function_or_method",
    "instance",
    "_Feature"
   ],
   "window_display": false
  }
 },
 "nbformat": 4,
 "nbformat_minor": 2
}
