{
 "cells": [
  {
   "cell_type": "markdown",
   "metadata": {},
   "source": [
    "In the cell below, create a Python function that wraps your previous solution for the Bag of Words lab.\n",
    "\n",
    "Requirements:\n",
    "\n",
    "1. Your function should accept the following parameters:\n",
    "    * `docs` [REQUIRED] - array of document paths.\n",
    "    * `stop_words` [OPTIONAL] - array of stop words. The default value is an empty array.\n",
    "\n",
    "1. Your function should return a Python object that contains the following:\n",
    "    * `bag_of_words` - array of strings of normalized unique words in the corpus.\n",
    "    * `term_freq` - array of the term-frequency vectors."
   ]
  },
  {
   "cell_type": "code",
   "execution_count": 4,
   "metadata": {},
   "outputs": [],
   "source": [
    "from IPython.core.interactiveshell import InteractiveShell\n",
    "InteractiveShell.ast_node_interactivity = \"all\""
   ]
  },
  {
   "cell_type": "code",
   "execution_count": 24,
   "metadata": {},
   "outputs": [],
   "source": [
    "# Import required libraries\n",
    "\n",
    "# Define function\n",
    "def get_bow_from_docs(docs, stop_words=[]):\n",
    "    \n",
    "    # In the function, first define the variables you will use such as `corpus`, `bag_of_words`, and `term_freq`.\n",
    "    \n",
    "    \"\"\"\n",
    "    Descrition: a function that reads the docs, creates the bag of words and returns the frequency of words of each doc.\n",
    "    Input:\n",
    "        docs = documents\n",
    "        stop words = the list of words\n",
    "    Output:\n",
    "        bag_of_words = list of unique words\n",
    "        term_feeq = frequency of words\n",
    "    \"\"\"\n",
    "    \n",
    "    corpus=[]\n",
    "    bag_of_words=[]\n",
    "    freq=[]\n",
    "    term_freq=[]\n",
    "    \n",
    "    \"\"\"\n",
    "    Loop `docs` and read the content of each doc into a string in `corpus`.\n",
    "    Remember to convert the doc content to lowercases and remove punctuation.\n",
    "    \"\"\"\n",
    "    import glob\n",
    "    import re\n",
    "\n",
    "    corpus = []\n",
    "    for fp in docs:\n",
    "        with open(fp, 'r') as f:\n",
    "            text = f.read()\n",
    "            clean_text = re.sub(r'[^\\w\\s]','',text).lower() #removing punctuation and converting to lowercase\n",
    "            corpus.append(clean_text)\n",
    "\n",
    "    \"\"\"\n",
    "    Loop `corpus`. Append the terms in each doc into the `bag_of_words` array. The terms in `bag_of_words` \n",
    "    should be unique which means before adding each term you need to check if it's already added to the array.\n",
    "    In addition, check if each term is in the `stop_words` array. Only append the term to `bag_of_words`\n",
    "    if it is not a stop word.\n",
    "    \"\"\"\n",
    "    for sentence in corpus:\n",
    "        sentences = re.split(\" \", sentence) #breaking the string into the array of terms\n",
    "        for term in sentences: #creating a sub-loop to iterate the terms\n",
    "            if term not in bag_of_words and term not in stop_words:\n",
    "                bag_of_words.append(term)\n",
    "    \n",
    "    \n",
    "    \"\"\"\n",
    "    Loop `corpus` again. For each doc string, count the number of occurrences of each term in `bag_of_words`. \n",
    "    Create an array for each doc's term frequency and append it to `term_freq`.\n",
    "    \"\"\"\n",
    "    for sentence in corpus:\n",
    "        sentences = re.split(\" \", sentence)\n",
    "        for term in bag_of_words:\n",
    "            if term in sentences:\n",
    "                freq.append(1)\n",
    "            else:\n",
    "                freq.append(0)\n",
    "\n",
    "    size=len(bag_of_words)\n",
    "\n",
    "    term_freq=[freq[i:i+size] for i in range(0, len(freq), size)]\n",
    "\n",
    "    \n",
    "    # Now return your output as an object\n",
    "    return {\n",
    "        \"bag_of_words\": bag_of_words,\n",
    "        \"term_freq\": term_freq\n",
    "    }\n",
    "    "
   ]
  },
  {
   "cell_type": "markdown",
   "metadata": {},
   "source": [
    "Test your function without stop words. You should see the output like below:\n",
    "\n",
    "```{'bag_of_words': ['ironhack', 'is', 'cool', 'i', 'love', 'am', 'a', 'student', 'at'], 'term_freq': [[1, 1, 1, 0, 0, 0, 0, 0, 0], [1, 0, 0, 1, 1, 0, 0, 0, 0], [1, 0, 0, 1, 0, 1, 1, 1, 1]]}```"
   ]
  },
  {
   "cell_type": "code",
   "execution_count": 25,
   "metadata": {},
   "outputs": [
    {
     "name": "stdout",
     "output_type": "stream",
     "text": [
      "{'bag_of_words': ['ironhack', 'is', 'cool', 'i', 'love', 'am', 'a', 'student', 'at'], 'term_freq': [[1, 1, 1, 0, 0, 0, 0, 0, 0], [1, 0, 0, 1, 1, 0, 0, 0, 0], [1, 0, 0, 1, 0, 1, 1, 1, 1]]}\n"
     ]
    }
   ],
   "source": [
    "# Define doc paths array\n",
    "docs = glob.glob(\"C:\\\\Users\\\\krist\\\\Ironhack_Labs\\\\DIC19-Kristina-lab-string-operations\\\\your-code\\\\doc*.txt\")\n",
    "\n",
    "# Obtain BoW from your function\n",
    "bow = get_bow_from_docs(docs)\n",
    "\n",
    "# Print BoW\n",
    "print(bow)"
   ]
  },
  {
   "cell_type": "markdown",
   "metadata": {},
   "source": [
    "If your attempt above is successful, nice work done!\n",
    "\n",
    "Now test your function again with the stop words. In the previous lab we defined the stop words in a large array. In this lab, we'll import the stop words from Scikit-Learn."
   ]
  },
  {
   "cell_type": "code",
   "execution_count": 26,
   "metadata": {},
   "outputs": [
    {
     "name": "stdout",
     "output_type": "stream",
     "text": [
      "frozenset({'off', 'could', 'put', 'give', 'empty', 'get', 'or', 're', 'amount', 'cry', 'very', 'will', 'few', 'cannot', 'its', 'everything', 'some', 'so', 'namely', 'still', 'part', 'becomes', 'everywhere', 'mine', 'first', 'then', 'behind', 'noone', 'hereupon', 'were', 'moreover', 'take', 'further', 'please', 'in', 'found', 'everyone', 'when', 'those', 'around', 'are', 'due', 'fire', 'after', 'neither', 'seeming', 'over', 'until', 'fill', 'against', 'afterwards', 'somewhere', 'between', 'otherwise', 'towards', 'nor', 'we', 'with', 'without', 'hereafter', 'whatever', 'bill', 'describe', 'side', 'the', 'it', 'whereby', 'while', 'either', 'serious', 'no', 'before', 'thin', 'whole', 'at', 'above', 'else', 'rather', 'per', 'thick', 'nowhere', 'your', 'done', 'ever', 'mostly', 'already', 'i', 'enough', 'five', 'least', 'too', 'should', 'hundred', 'together', 'whether', 'thus', 'interest', 'there', 'again', 'whoever', 'whereafter', 'who', 'though', 'all', 'hereby', 'although', 'them', 'others', 'show', 'keep', 'except', 'sincere', 'de', 'even', 'onto', 'out', 'seemed', 'via', 'forty', 'ie', 'if', 'amongst', 'might', 'along', 'whereupon', 'must', 'several', 'about', 'throughout', 'see', 'front', 'ten', 'below', 'since', 'mill', 'as', 'ourselves', 'ours', 'thereby', 'why', 'me', 'made', 'has', 'up', 'herein', 'once', 'one', 'whither', 'a', 'detail', 'any', 'to', 'hence', 'four', 'an', 'upon', 'under', 'can', 'find', 'now', 'seems', 'three', 'becoming', 'meanwhile', 'her', 'move', 'own', 'toward', 'during', 'co', 'therefore', 'herself', 'of', 'six', 'beside', 'itself', 'myself', 'through', 'how', 'whereas', 'seem', 'but', 'thereupon', 'two', 'yet', 'therein', 'twelve', 'anyone', 'third', 'yours', 'besides', 'amoungst', 'much', 'name', 'that', 'sixty', 'cant', 'his', 'system', 'have', 'etc', 'by', 'whom', 'for', 'this', 'whose', 'un', 'being', 'anyway', 'latterly', 'among', 'sometime', 'more', 'something', 'also', 'do', 'back', 'was', 'many', 'fifteen', 'most', 'than', 'con', 'may', 'thence', 'both', 'less', 'almost', 'us', 'someone', 'latter', 'go', 'nevertheless', 'became', 'next', 'because', 'eleven', 'eg', 'eight', 'somehow', 'fifty', 'nothing', 'last', 'what', 'always', 'never', 'beforehand', 'from', 'another', 'former', 'you', 'however', 'sometimes', 'couldnt', 'not', 'ltd', 'twenty', 'other', 'same', 'into', 'our', 'anywhere', 'well', 'nobody', 'my', 'become', 'he', 'they', 'yourself', 'across', 'anyhow', 'top', 'on', 'hers', 'had', 'am', 'inc', 'formerly', 'here', 'him', 'is', 'themselves', 'none', 'elsewhere', 'she', 'such', 'wherever', 'where', 'wherein', 'be', 'nine', 'whenever', 'every', 'only', 'each', 'perhaps', 'been', 'beyond', 'anything', 'which', 'hasnt', 'full', 'thereafter', 'whence', 'alone', 'would', 'these', 'their', 'down', 'bottom', 'call', 'within', 'himself', 'often', 'thru', 'yourselves', 'indeed', 'and'})\n"
     ]
    }
   ],
   "source": [
    "from sklearn.feature_extraction import stop_words\n",
    "print(stop_words.ENGLISH_STOP_WORDS)"
   ]
  },
  {
   "cell_type": "markdown",
   "metadata": {},
   "source": [
    "You should have seen a large list of words that looks like:\n",
    "\n",
    "```frozenset({'across', 'mine', 'cannot', ...})```\n",
    "\n",
    "`frozenset` is a type of Python object that is immutable. In this lab you can use it just like an array without conversion."
   ]
  },
  {
   "cell_type": "markdown",
   "metadata": {},
   "source": [
    "Next, test your function with supplying `stop_words.ENGLISH_STOP_WORDS` as the second parameter."
   ]
  },
  {
   "cell_type": "code",
   "execution_count": 27,
   "metadata": {},
   "outputs": [
    {
     "name": "stdout",
     "output_type": "stream",
     "text": [
      "{'bag_of_words': ['ironhack', 'cool', 'love', 'student'], 'term_freq': [[1, 1, 0, 0], [1, 0, 1, 0], [1, 0, 0, 1]]}\n"
     ]
    }
   ],
   "source": [
    "bow = get_bow_from_docs(docs, stop_words.ENGLISH_STOP_WORDS)\n",
    "\n",
    "print(bow)"
   ]
  },
  {
   "cell_type": "markdown",
   "metadata": {},
   "source": [
    "You should have seen:\n",
    "\n",
    "```{'bag_of_words': ['ironhack', 'cool', 'love', 'student'], 'term_freq': [[1, 1, 0, 0], [1, 0, 1, 0], [1, 0, 0, 1]]}```"
   ]
  }
 ],
 "metadata": {
  "kernelspec": {
   "display_name": "Python 3",
   "language": "python",
   "name": "python3"
  },
  "language_info": {
   "codemirror_mode": {
    "name": "ipython",
    "version": 3
   },
   "file_extension": ".py",
   "mimetype": "text/x-python",
   "name": "python",
   "nbconvert_exporter": "python",
   "pygments_lexer": "ipython3",
   "version": "3.7.4"
  }
 },
 "nbformat": 4,
 "nbformat_minor": 2
}
