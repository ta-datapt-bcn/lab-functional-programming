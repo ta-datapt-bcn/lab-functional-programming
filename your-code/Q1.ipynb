{
 "cells": [
  {
   "cell_type": "markdown",
   "metadata": {},
   "source": [
    "In the cell below, create a Python function that wraps your previous solution for the Bag of Words lab.\n",
    "\n",
    "Requirements:\n",
    "\n",
    "1. Your function should accept the following parameters:\n",
    "    * `docs` [REQUIRED] - array of document paths.\n",
    "    * `stop_words` [OPTIONAL] - array of stop words. The default value is an empty array.\n",
    "\n",
    "1. Your function should return a Python object that contains the following:\n",
    "    * `bag_of_words` - array of strings of normalized unique words in the corpus.\n",
    "    * `term_freq` - array of the term-frequency vectors."
   ]
  },
  {
   "cell_type": "code",
   "execution_count": 1,
   "metadata": {
    "ExecuteTime": {
     "end_time": "2019-12-29T16:59:54.173792Z",
     "start_time": "2019-12-29T16:59:53.972543Z"
    }
   },
   "outputs": [
    {
     "ename": "IndentationError",
     "evalue": "unexpected indent (<ipython-input-1-b628df0cd60e>, line 7)",
     "output_type": "error",
     "traceback": [
      "\u001b[0;36m  File \u001b[0;32m\"<ipython-input-1-b628df0cd60e>\"\u001b[0;36m, line \u001b[0;32m7\u001b[0m\n\u001b[0;31m    \"\"\"\u001b[0m\n\u001b[0m    ^\u001b[0m\n\u001b[0;31mIndentationError\u001b[0m\u001b[0;31m:\u001b[0m unexpected indent\n"
     ]
    }
   ],
   "source": [
    "docs = ['doc1.txt', 'doc2.txt', 'doc3.txt']\n",
    "\n",
    " # In the function, first define the variables you will use such as `corpus`, `bag_of_words`, and `term_freq`.\n",
    "    \n",
    "    \n",
    "    \n",
    "    \"\"\"\n",
    "    Loop `docs` and read the content of each doc into a string in `corpus`.\n",
    "    Remember to convert the doc content to lowercases and remove punctuation.\n",
    "    \"\"\"\n",
    "\n",
    "    \n",
    "    \n",
    "    \"\"\"\n",
    "    Loop `corpus`. Append the terms in each doc into the `bag_of_words` array. The terms in `bag_of_words` \n",
    "    should be unique which means before adding each term you need to check if it's already added to the array.\n",
    "    In addition, check if each term is in the `stop_words` array. Only append the term to `bag_of_words`\n",
    "    if it is not a stop word.\n",
    "    \"\"\"\n",
    "\n",
    "    \n",
    "    \n",
    "    \n",
    "    \"\"\"\n",
    "    Loop `corpus` again. For each doc string, count the number of occurrences of each term in `bag_of_words`. \n",
    "    Create an array for each doc's term frequency and append it to `term_freq`.\n",
    "    \"\"\"\n"
   ]
  },
  {
   "cell_type": "code",
   "execution_count": 5,
   "metadata": {
    "ExecuteTime": {
     "end_time": "2019-12-29T17:04:50.788298Z",
     "start_time": "2019-12-29T17:04:50.739900Z"
    }
   },
   "outputs": [],
   "source": [
    "# Import required libraries\n",
    "\n",
    "import os \n",
    "\n",
    "# Define function\n",
    "def get_bow_from_docs(docs, stop_words=[]):\n",
    "    corpus = []\n",
    "    n = 0\n",
    "    bag_of_words = []\n",
    "    term_freq = []\n",
    "    \n",
    "    \n",
    "    \n",
    "    for doc in docs:\n",
    "        with open(doc, \"r\") as f:\n",
    "            lines = f.readlines()\n",
    "            for line in lines:\n",
    "                corpus.append(line)\n",
    "                \n",
    "   \n",
    "    for corp in corpus:\n",
    "        corp = corp.lower().replace('.', '')\n",
    "        corpus[n] = corp\n",
    "        n +=1\n",
    "            \n",
    "    \n",
    "    for corp in corpus: \n",
    "        c2 = corp.split()\n",
    "        for c in c2:\n",
    "            if c not in bag_of_words:\n",
    "                bag_of_words.append(c)\n",
    "                     \n",
    "\n",
    "    for word in bag_of_words:\n",
    "        if word in stop_words:\n",
    "            bag_of_words.remove(word)\n",
    "                \n",
    "                \n",
    "    for corp in corpus:\n",
    "        \n",
    "        c2 = corp.split()\n",
    "        sub_freq = []\n",
    "\n",
    "        for term in bag_of_words:\n",
    "            if term in c2:\n",
    "                sub_freq.append(1)\n",
    "            elif term not in c2:\n",
    "                sub_freq.append(0)\n",
    "        term_freq.append(sub_freq)         \n",
    "    \n",
    "   \n",
    "\n",
    "    \n",
    "    \n",
    "    # Now return your output as an object\n",
    "    return {\n",
    "        \"bag_of_words\": bag_of_words,\n",
    "        \"term_freq\": term_freq\n",
    "    }\n",
    "    "
   ]
  },
  {
   "cell_type": "markdown",
   "metadata": {},
   "source": [
    "Test your function without stop words. You should see the output like below:\n",
    "\n",
    "```{'bag_of_words': ['ironhack', 'is', 'cool', 'i', 'love', 'am', 'a', 'student', 'at'], 'term_freq': [[1, 1, 1, 0, 0, 0, 0, 0, 0], [1, 0, 0, 1, 1, 0, 0, 0, 0], [1, 0, 0, 1, 0, 1, 1, 1, 1]]}```"
   ]
  },
  {
   "cell_type": "code",
   "execution_count": 6,
   "metadata": {
    "ExecuteTime": {
     "end_time": "2019-12-29T17:04:52.194038Z",
     "start_time": "2019-12-29T17:04:52.182029Z"
    }
   },
   "outputs": [
    {
     "name": "stdout",
     "output_type": "stream",
     "text": [
      "{'bag_of_words': ['ironhack', 'is', 'cool', 'i', 'love', 'am', 'a', 'student', 'at'], 'term_freq': [[1, 1, 1, 0, 0, 0, 0, 0, 0], [1, 0, 0, 1, 1, 0, 0, 0, 0], [1, 0, 0, 1, 0, 1, 1, 1, 1]]}\n"
     ]
    }
   ],
   "source": [
    "# Define doc paths array\n",
    "docs = ['doc1.txt', 'doc2.txt', 'doc3.txt']\n",
    "\n",
    "# Obtain BoW from your function\n",
    "bow = get_bow_from_docs(docs)\n",
    "\n",
    "# Print BoW\n",
    "print(bow)"
   ]
  },
  {
   "cell_type": "markdown",
   "metadata": {},
   "source": [
    "If your attempt above is successful, nice work done!\n",
    "\n",
    "Now test your function again with the stop words. In the previous lab we defined the stop words in a large array. In this lab, we'll import the stop words from Scikit-Learn."
   ]
  },
  {
   "cell_type": "code",
   "execution_count": 7,
   "metadata": {
    "ExecuteTime": {
     "end_time": "2019-12-29T17:05:42.218121Z",
     "start_time": "2019-12-29T17:05:12.694722Z"
    }
   },
   "outputs": [
    {
     "name": "stdout",
     "output_type": "stream",
     "text": [
      "frozenset({'we', 'top', 'or', 'full', 'will', 'therefore', 'as', 'becoming', 'something', 'have', 'which', 'otherwise', 'forty', 'fill', 'still', 'back', 'her', 'before', 'meanwhile', 'hence', 'on', 'three', 'why', 'during', 'whose', 'off', 'nowhere', 'yourselves', 'rather', 'already', 'now', 'thereafter', 'not', 'de', 'every', 'bill', 'anyway', 'an', 'am', 'namely', 'thereby', 'around', 'somehow', 'hereby', 'name', 'show', 'other', 'him', 'also', 'ten', 'anything', 'nor', 'well', 'must', 'much', 'should', 'be', 'these', 'third', 'do', 'becomes', 'what', 'most', 'five', 'you', 'has', 'since', 'the', 'hasnt', 'herein', 'in', 'can', 'take', 'thick', 'nobody', 'being', 'another', 'fire', 'even', 'nothing', 'but', 'are', 'please', 'i', 'wherever', 'see', 'con', 'four', 'where', 'per', 'against', 'more', 'everything', 'via', 'anyone', 'whereas', 'anywhere', 'seemed', 'ours', 'indeed', 'whoever', 'found', 'to', 'across', 'co', 'thru', 'whereby', 'none', 'thus', 'almost', 'sometimes', 'whenever', 'at', 'this', 'all', 'many', 'system', 'hers', 'herself', 'himself', 'below', 'after', 'give', 'nine', 'toward', 'former', 'by', 'into', 'cannot', 'ourselves', 'further', 'mill', 'therein', 'until', 'and', 'were', 'get', 'perhaps', 'beyond', 'their', 'once', 'behind', 'its', 'due', 'same', 'between', 'alone', 'along', 'made', 'serious', 'put', 'two', 'thin', 'last', 'mostly', 'thereupon', 'describe', 'was', 'onto', 'because', 'un', 'a', 'myself', 'whether', 'interest', 'throughout', 'of', 'cry', 'his', 'itself', 'everyone', 'above', 'our', 'ever', 'here', 'amongst', 'few', 'move', 'except', 'wherein', 'whole', 'elsewhere', 'for', 'them', 'somewhere', 'she', 'never', 'thence', 'among', 'had', 'besides', 'sixty', 'eight', 'eg', 'mine', 'noone', 'formerly', 'although', 'someone', 'may', 'themselves', 'else', 'anyhow', 'whither', 'one', 're', 'sometime', 'nevertheless', 'could', 'that', 'out', 'side', 'whom', 'first', 'fifteen', 'each', 'whereupon', 'always', 'no', 'done', 'twenty', 'however', 'upon', 'while', 'seems', 'from', 'again', 'everywhere', 'so', 'hundred', 'became', 'afterwards', 'through', 'might', 'under', 'whatever', 'is', 'would', 'any', 'who', 'less', 'up', 'front', 'ie', 'my', 'often', 'about', 'if', 'within', 'whence', 'enough', 'amount', 'such', 'there', 'been', 'only', 'over', 'beside', 'others', 'than', 'six', 'own', 'with', 'become', 'us', 'towards', 'beforehand', 'he', 'cant', 'those', 'next', 'whereafter', 'least', 'call', 'etc', 'your', 'down', 'either', 'how', 'couldnt', 'several', 'twelve', 'amoungst', 'then', 'hereafter', 'very', 'it', 'yourself', 'go', 'too', 'yours', 'ltd', 'bottom', 'though', 'some', 'find', 'seem', 'hereupon', 'moreover', 'they', 'sincere', 'inc', 'part', 'eleven', 'fifty', 'when', 'me', 'keep', 'together', 'empty', 'without', 'both', 'detail', 'seeming', 'yet', 'latter', 'neither', 'latterly'})\n"
     ]
    }
   ],
   "source": [
    "from sklearn.feature_extraction import stop_words\n",
    "print(stop_words.ENGLISH_STOP_WORDS)"
   ]
  },
  {
   "cell_type": "markdown",
   "metadata": {},
   "source": [
    "You should have seen a large list of words that looks like:\n",
    "\n",
    "```frozenset({'across', 'mine', 'cannot', ...})```\n",
    "\n",
    "`frozenset` is a type of Python object that is immutable. In this lab you can use it just like an array without conversion."
   ]
  },
  {
   "cell_type": "markdown",
   "metadata": {},
   "source": [
    "Next, test your function with supplying `stop_words.ENGLISH_STOP_WORDS` as the second parameter."
   ]
  },
  {
   "cell_type": "code",
   "execution_count": 10,
   "metadata": {
    "ExecuteTime": {
     "end_time": "2019-12-29T17:05:54.476131Z",
     "start_time": "2019-12-29T17:05:54.462184Z"
    }
   },
   "outputs": [
    {
     "name": "stdout",
     "output_type": "stream",
     "text": [
      "{'bag_of_words': ['ironhack', 'cool', 'love', 'a', 'student'], 'term_freq': [[1, 1, 0, 0, 0], [1, 0, 1, 0, 0], [1, 0, 0, 1, 1]]}\n"
     ]
    }
   ],
   "source": [
    "bow = get_bow_from_docs(docs, stop_words.ENGLISH_STOP_WORDS)\n",
    "\n",
    "print(bow)"
   ]
  },
  {
   "cell_type": "markdown",
   "metadata": {},
   "source": [
    "You should have seen:\n",
    "\n",
    "```{'bag_of_words': ['ironhack', 'cool', 'love', 'student'], 'term_freq': [[1, 1, 0, 0], [1, 0, 1, 0], [1, 0, 0, 1]]}```"
   ]
  }
 ],
 "metadata": {
  "kernelspec": {
   "display_name": "Python 3",
   "language": "python",
   "name": "python3"
  },
  "language_info": {
   "codemirror_mode": {
    "name": "ipython",
    "version": 3
   },
   "file_extension": ".py",
   "mimetype": "text/x-python",
   "name": "python",
   "nbconvert_exporter": "python",
   "pygments_lexer": "ipython3",
   "version": "3.7.4"
  }
 },
 "nbformat": 4,
 "nbformat_minor": 2
}
