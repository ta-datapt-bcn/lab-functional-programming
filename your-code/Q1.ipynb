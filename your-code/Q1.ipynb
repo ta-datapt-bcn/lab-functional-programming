{
 "cells": [
  {
   "cell_type": "markdown",
   "metadata": {},
   "source": [
    "In the cell below, create a Python function that wraps your previous solution for the Bag of Words lab.\n",
    "\n",
    "Requirements:\n",
    "\n",
    "1. Your function should accept the following parameters:\n",
    "    * `docs` [REQUIRED] - array of document paths.\n",
    "    * `stop_words` [OPTIONAL] - array of stop words. The default value is an empty array.\n",
    "\n",
    "1. Your function should return a Python object that contains the following:\n",
    "    * `bag_of_words` - array of strings of normalized unique words in the corpus.\n",
    "    * `term_freq` - array of the term-frequency vectors."
   ]
  },
  {
   "cell_type": "code",
   "execution_count": 3,
   "metadata": {},
   "outputs": [],
   "source": [
    "# Import required libraries\n",
    "\n",
    "import re\n",
    "\n",
    "# Define function\n",
    "def get_bow_from_docs(docs, stop_words=[]):\n",
    "\n",
    "    # In the function, first define the variables you will use such as `corpus`, `bag_of_words`, and `term_freq`.\n",
    "    \n",
    "    '''\n",
    "    Description: This functions take an array of docs and calculates the words (bag_of_words) present \n",
    "    and its term frequency (term_freq). As an optional parameter, it can filter by an array of strings called \n",
    "    stop_words.\n",
    "    \n",
    "    Input:\n",
    "        * docs: Array of document paths\n",
    "        * stop_words: (Optional) Array of strings to filter.\n",
    "        \n",
    "    Output:\n",
    "        * bag_of_words: Array of strings in lower case of unique words.\n",
    "        * term_freq: Array of term_frequency of words.\n",
    "        \n",
    "    Local variables:\n",
    "        * corpus: Array containing the sentences in document list. Need it to extract the unique words and its term frequency.\n",
    "        * words: Array containg the words in each sentence of corpus.\n",
    "        * bag_vector: Array containing the term frequency of a sentence (s) in corpus\n",
    "    '''\n",
    "    bag_of_words = []\n",
    "    term_freq = []\n",
    "    \n",
    "    \"\"\"\n",
    "    Loop `docs` and read the content of each doc into a string in `corpus`.\n",
    "    Remember to convert the doc content to lowercases and remove punctuation.\n",
    "    \"\"\"\n",
    "    corpus = [open(f).read() for f in docs]\n",
    "    corpus = [s.replace(\".\",\"\").lower() for s in corpus]\n",
    "  \n",
    "    \"\"\"\n",
    "    Loop `corpus`. Append the terms in each doc into the `bag_of_words` array. The terms in `bag_of_words` \n",
    "    should be unique which means before adding each term you need to check if it's already added to the array.\n",
    "    In addition, check if each term is in the `stop_words` array. Only append the term to `bag_of_words`\n",
    "    if it is not a stop word.\n",
    "    \"\"\"\n",
    "    for s in corpus:\n",
    "        words = re.split('\\s',s)\n",
    "        for word in words:\n",
    "            if word not in bag_of_words and word not in stop_words: #if word is not present and not in stop_words\n",
    "                bag_of_words.append(word)\n",
    "\n",
    "    \"\"\"\n",
    "    Loop `corpus` again. For each doc string, count the number of occurrences of each term in `bag_of_words`. \n",
    "    Create an array for each doc's term frequency and append it to `term_freq`.\n",
    "    \"\"\"\n",
    "    #Calculate term frequency\n",
    "\n",
    "    for s in corpus:\n",
    "        words = re.split('\\s',s)\n",
    "        bag_vector = len(bag_of_words)*[0]\n",
    "        for w in words:\n",
    "            for i, word in enumerate(bag_of_words):\n",
    "                if word == w:\n",
    "                    bag_vector[i] += 1\n",
    "        term_freq.append(bag_vector)\n",
    "    \n",
    "    # Now return your output as an object\n",
    "    return {\n",
    "        \"bag_of_words\": bag_of_words,\n",
    "        \"term_freq\": term_freq\n",
    "    }"
   ]
  },
  {
   "cell_type": "markdown",
   "metadata": {},
   "source": [
    "Test your function without stop words. You should see the output like below:\n",
    "\n",
    "```{'bag_of_words': ['ironhack', 'is', 'cool', 'i', 'love', 'am', 'a', 'student', 'at'], 'term_freq': [[1, 1, 1, 0, 0, 0, 0, 0, 0], [1, 0, 0, 1, 1, 0, 0, 0, 0], [1, 0, 0, 1, 0, 1, 1, 1, 1]]}```"
   ]
  },
  {
   "cell_type": "code",
   "execution_count": 4,
   "metadata": {},
   "outputs": [
    {
     "name": "stdout",
     "output_type": "stream",
     "text": [
      "{'bag_of_words': ['ironhack', 'is', 'cool', 'i', 'love', 'am', 'a', 'student', 'at'], 'term_freq': [[1, 1, 1, 0, 0, 0, 0, 0, 0], [1, 0, 0, 1, 1, 0, 0, 0, 0], [1, 0, 0, 1, 0, 1, 1, 1, 1]]}\n"
     ]
    }
   ],
   "source": [
    "# Define doc paths array\n",
    "docs = [\"../../../string_operations/lab-string-operations/your-code/doc1.txt\",\n",
    "        \"../../../string_operations/lab-string-operations/your-code/doc2.txt\",\n",
    "        \"../../../string_operations/lab-string-operations/your-code/doc3.txt\"]\n",
    "\n",
    "# Obtain BoW from your function\n",
    "bow = get_bow_from_docs(docs)\n",
    "\n",
    "# Print BoW\n",
    "print(bow)"
   ]
  },
  {
   "cell_type": "markdown",
   "metadata": {},
   "source": [
    "If your attempt above is successful, nice work done!\n",
    "\n",
    "Now test your function again with the stop words. In the previous lab we defined the stop words in a large array. In this lab, we'll import the stop words from Scikit-Learn."
   ]
  },
  {
   "cell_type": "code",
   "execution_count": 5,
   "metadata": {},
   "outputs": [
    {
     "name": "stdout",
     "output_type": "stream",
     "text": [
      "frozenset({'besides', 'please', 'everything', 'will', 'anyway', 'beside', 'whoever', 'as', 'neither', 'last', 'forty', 'fifteen', 'has', 'next', 'this', 'made', 'upon', 'rather', 'yours', 'elsewhere', 'ever', 'eleven', 'his', 'part', 'hence', 'ltd', 'in', 'serious', 'throughout', 'while', 'whenever', 'whether', 'should', 'noone', 'alone', 'else', 'him', 'empty', 'am', 'well', 'being', 'one', 'amount', 'cant', 'cry', 'toward', 'whereby', 'four', 'their', 'until', 'i', 'therein', 'herein', 'before', 'whence', 'above', 'amoungst', 'an', 'much', 'move', 'almost', 'own', 'become', 'thus', 'keep', 'side', 'its', 'hasnt', 'whose', 'themselves', 'every', 'thru', 'latterly', 'because', 'for', 'nobody', 'even', 'un', 'others', 'seem', 'been', 'either', 'see', 'whither', 'eight', 'indeed', 'would', 'fifty', 'twenty', 'only', 'beforehand', 'towards', 'seemed', 'onto', 'since', 'several', 'six', 'with', 'by', 'the', 'on', 'himself', 'nor', 'amongst', 'cannot', 'we', 'then', 'however', 'do', 'now', 'too', 'here', 'twelve', 'out', 'wherever', 'beyond', 'also', 'mill', 're', 'why', 'thereafter', 'itself', 'around', 'he', 'whatever', 'her', 'thence', 'former', 'seems', 'not', 'from', 'go', 'both', 'bottom', 'myself', 'latter', 'fire', 'something', 'was', 'interest', 'is', 'seeming', 'de', 'via', 'there', 'nothing', 'becoming', 'otherwise', 'find', 'below', 'further', 'somewhere', 'over', 'inc', 'less', 'anything', 'co', 'yourself', 'two', 'most', 'put', 'never', 'hereby', 'together', 'mostly', 'to', 'those', 'afterwards', 'can', 'where', 'no', 'except', 'give', 'found', 'between', 'already', 'still', 'front', 'least', 'other', 'once', 'take', 'up', 'third', 'down', 'when', 'off', 'were', 'are', 'had', 'sometimes', 'full', 'describe', 'detail', 'about', 'hereupon', 'into', 'she', 'might', 'everywhere', 'thereupon', 'due', 'again', 'hereafter', 'thereby', 'these', 'perhaps', 'none', 'within', 'which', 'many', 'eg', 'anywhere', 'all', 'without', 'meanwhile', 'call', 'enough', 'across', 'bill', 'during', 'show', 'me', 'herself', 'sometime', 'whole', 'anyone', 'or', 'nowhere', 'among', 'anyhow', 'formerly', 'another', 'few', 'yourselves', 'ours', 'sixty', 'very', 'whereas', 'such', 'although', 'becomes', 'yet', 'my', 'someone', 'somehow', 'three', 'nine', 'be', 'us', 'behind', 'often', 'of', 'whom', 'each', 'hers', 'it', 'fill', 'what', 'therefore', 'could', 'some', 'you', 'them', 'became', 'and', 'get', 'system', 'whereupon', 'hundred', 'always', 'than', 'how', 'namely', 'ten', 'couldnt', 'must', 'through', 'along', 'whereafter', 'five', 'any', 'under', 'but', 'name', 'wherein', 'so', 'sincere', 'may', 'thin', 'done', 'mine', 'that', 'ie', 'etc', 'against', 'moreover', 'con', 'back', 'more', 'thick', 'though', 'have', 'same', 'at', 'first', 'top', 'if', 'our', 'they', 'everyone', 'who', 'per', 'your', 'a', 'ourselves', 'nevertheless', 'after'})\n"
     ]
    }
   ],
   "source": [
    "from sklearn.feature_extraction import stop_words\n",
    "print(stop_words.ENGLISH_STOP_WORDS)"
   ]
  },
  {
   "cell_type": "markdown",
   "metadata": {},
   "source": [
    "You should have seen a large list of words that looks like:\n",
    "\n",
    "```frozenset({'across', 'mine', 'cannot', ...})```\n",
    "\n",
    "`frozenset` is a type of Python object that is immutable. In this lab you can use it just like an array without conversion."
   ]
  },
  {
   "cell_type": "markdown",
   "metadata": {},
   "source": [
    "Next, test your function with supplying `stop_words.ENGLISH_STOP_WORDS` as the second parameter."
   ]
  },
  {
   "cell_type": "code",
   "execution_count": 6,
   "metadata": {},
   "outputs": [
    {
     "name": "stdout",
     "output_type": "stream",
     "text": [
      "{'bag_of_words': ['ironhack', 'cool', 'love', 'student'], 'term_freq': [[1, 1, 0, 0], [1, 0, 1, 0], [1, 0, 0, 1]]}\n"
     ]
    }
   ],
   "source": [
    "bow = get_bow_from_docs(docs, stop_words.ENGLISH_STOP_WORDS)\n",
    "\n",
    "print(bow)"
   ]
  },
  {
   "cell_type": "markdown",
   "metadata": {},
   "source": [
    "You should have seen:\n",
    "\n",
    "```{'bag_of_words': ['ironhack', 'cool', 'love', 'student'], 'term_freq': [[1, 1, 0, 0], [1, 0, 1, 0], [1, 0, 0, 1]]}```"
   ]
  },
  {
   "cell_type": "code",
   "execution_count": null,
   "metadata": {
    "collapsed": true
   },
   "outputs": [],
   "source": []
  }
 ],
 "metadata": {
  "kernelspec": {
   "display_name": "Python 3",
   "language": "python",
   "name": "python3"
  },
  "language_info": {
   "codemirror_mode": {
    "name": "ipython",
    "version": 3
   },
   "file_extension": ".py",
   "mimetype": "text/x-python",
   "name": "python",
   "nbconvert_exporter": "python",
   "pygments_lexer": "ipython3",
   "version": "3.7.4"
  }
 },
 "nbformat": 4,
 "nbformat_minor": 2
}
