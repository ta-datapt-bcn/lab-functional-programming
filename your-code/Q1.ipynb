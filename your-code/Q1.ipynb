{
 "cells": [
  {
   "cell_type": "markdown",
   "metadata": {},
   "source": [
    "In the cell below, create a Python function that wraps your previous solution for the Bag of Words lab.\n",
    "\n",
    "Requirements:\n",
    "\n",
    "1. Your function should accept the following parameters:\n",
    "    * `docs` [REQUIRED] - array of document paths.\n",
    "    * `stop_words` [OPTIONAL] - array of stop words. The default value is an empty array.\n",
    "\n",
    "1. Your function should return a Python object that contains the following:\n",
    "    * `bag_of_words` - array of strings of normalized unique words in the corpus.\n",
    "    * `term_freq` - array of the term-frequency vectors."
   ]
  },
  {
   "cell_type": "code",
   "execution_count": 1,
   "metadata": {
    "ExecuteTime": {
     "end_time": "2020-01-06T12:06:42.104987Z",
     "start_time": "2020-01-06T12:06:42.091565Z"
    }
   },
   "outputs": [],
   "source": [
    "# Import required libraries\n",
    "import string\n",
    "import os\n",
    "# Define function\n",
    "def get_bow_from_docs(docs, stop_words=[]):\n",
    "    \n",
    "    # In the function, first define the variables you will use such as `corpus`, `bag_of_words`, and `term_freq`.\n",
    "    \n",
    "    corpus = []\n",
    "    bag_of_words = []\n",
    "    term_freq = []\n",
    "    \n",
    "    \"\"\"\n",
    "    Loop `docs` and read the content of each doc into a string in `corpus`.\n",
    "    Remember to convert the doc content to lowercases and remove punctuation.\n",
    "    \"\"\"\n",
    "    \n",
    "    for doc in docs:\n",
    "        o = open(doc, \"r\")\n",
    "        r = o.read( )\n",
    "        s = \"\".join(x for x in r if x not in string.punctuation).lower()\n",
    "        corpus.append(s)\n",
    "        o.close()   \n",
    "\n",
    "    \"\"\"\n",
    "    Loop `corpus`. Append the terms in each doc into the `bag_of_words` array. The terms in `bag_of_words` \n",
    "    should be unique which means before adding each term you need to check if it's already added to the array.\n",
    "    In addition, check if each term is in the `stop_words` array. Only append the term to `bag_of_words`\n",
    "    if it is not a stop word.\n",
    "    \"\"\"\n",
    "    for strings in corpus:\n",
    "        x = \" \".join(corpus)\n",
    "        terms = x.split()\n",
    "        for term in terms:\n",
    "            if term not in bag_of_words and term not in stop_words:\n",
    "                bag_of_words.append(term)\n",
    "    \n",
    "    \"\"\"\n",
    "    Loop `corpus` again. For each doc string, count the number of occurrences of each term in `bag_of_words`. \n",
    "    Create an array for each doc's term frequency and append it to `term_freq`.\n",
    "    \"\"\"\n",
    "    for strings in corpus:\n",
    "        terms = strings.split() #split the strings in corpus into terms to count the frequency \n",
    "        doc_freq = []\n",
    "        for words in bag_of_words:\n",
    "            doc_freq.append(terms.count(words)) #if .append directly to term_freq will count as one not by doc.\n",
    "        term_freq.append(doc_freq)\n",
    "    \n",
    "    # Now return your output as an object\n",
    "    return {\n",
    "        \"bag_of_words\": bag_of_words,\n",
    "        \"term_freq\": term_freq\n",
    "    }    \n"
   ]
  },
  {
   "cell_type": "markdown",
   "metadata": {},
   "source": [
    "Test your function without stop words. You should see the output like below:\n",
    "\n",
    "```{'bag_of_words': ['ironhack', 'is', 'cool', 'i', 'love', 'am', 'a', 'student', 'at'], 'term_freq': [[1, 1, 1, 0, 0, 0, 0, 0, 0], [1, 0, 0, 1, 1, 0, 0, 0, 0], [1, 0, 0, 1, 0, 1, 1, 1, 1]]}```"
   ]
  },
  {
   "cell_type": "code",
   "execution_count": 2,
   "metadata": {
    "ExecuteTime": {
     "end_time": "2020-01-06T12:06:43.033583Z",
     "start_time": "2020-01-06T12:06:43.026031Z"
    }
   },
   "outputs": [
    {
     "name": "stdout",
     "output_type": "stream",
     "text": [
      "{'bag_of_words': ['ironhack', 'is', 'cool', 'i', 'am', 'a', 'student', 'at', 'love'], 'term_freq': [[1, 1, 1, 0, 0, 0, 0, 0, 0], [1, 0, 0, 1, 1, 1, 1, 1, 0], [1, 0, 0, 1, 0, 0, 0, 0, 1]]}\n"
     ]
    }
   ],
   "source": [
    "# Define doc paths array\n",
    "docs = [os.path.join('/Users/gabii/IRONHACK/labs/lab-string-operations/your-code', f) for f in os.listdir\n",
    "        ('/Users/gabii/IRONHACK/labs/lab-string-operations/your-code') if f.endswith('.txt')]\n",
    "\n",
    "# Obtain BoW from your function\n",
    "bow = get_bow_from_docs(docs)\n",
    "\n",
    "# Print BoW\n",
    "print(bow)"
   ]
  },
  {
   "cell_type": "markdown",
   "metadata": {},
   "source": [
    "If your attempt above is successful, nice work done!\n",
    "\n",
    "Now test your function again with the stop words. In the previous lab we defined the stop words in a large array. In this lab, we'll import the stop words from Scikit-Learn."
   ]
  },
  {
   "cell_type": "code",
   "execution_count": 3,
   "metadata": {
    "ExecuteTime": {
     "end_time": "2020-01-06T12:06:53.850367Z",
     "start_time": "2020-01-06T12:06:52.912853Z"
    }
   },
   "outputs": [
    {
     "name": "stdout",
     "output_type": "stream",
     "text": [
      "frozenset({'nor', 'toward', 'most', 'whose', 'full', 're', 'last', 'into', 'either', 'con', 'enough', 'sometimes', 'yourself', 'am', 'whole', 'call', 'find', 'latter', 'twelve', 'such', 'move', 'too', 'per', 'here', 'had', 'formerly', 'neither', 'after', 'latterly', 'show', 'rather', 'much', 'along', 'eg', 'beside', 'with', 'might', 'because', 'against', 'hasnt', 'co', 'beforehand', 'interest', 'besides', 'six', 'fifty', 'under', 'will', 'ltd', 'she', 'now', 'being', 'whence', 'would', 'whenever', 'somehow', 'seemed', 'from', 'then', 'them', 'yours', 'have', 'other', 'where', 'else', 'go', 'few', 'upon', 'yet', 'since', 'across', 'our', 'anywhere', 'whoever', 'top', 'see', 'without', 'amongst', 'whereby', 'therein', 'namely', 'de', 'back', 'why', 'each', 'eleven', 'his', 'again', 'done', 'through', 'its', 'via', 'together', 'mostly', 'everyone', 'none', 'empty', 'hereafter', 'not', 'please', 'couldnt', 'due', 'be', 'and', 'alone', 'further', 'until', 'these', 'anyone', 'herself', 'fire', 'someone', 'five', 'wherein', 'me', 'nine', 'several', 'are', 'thereafter', 'hers', 'eight', 'within', 'becoming', 'well', 'something', 'ten', 'below', 'part', 'perhaps', 'thus', 'often', 'out', 'sincere', 'my', 'afterwards', 'ourselves', 'over', 'only', 'among', 'onto', 'up', 'yourselves', 'or', 'indeed', 'above', 'thence', 'former', 'it', 'him', 'seeming', 'himself', 'mine', 'may', 'how', 'were', 'others', 'sometime', 'somewhere', 'already', 'hence', 'hereby', 'i', 'anything', 'can', 'once', 'on', 'before', 'ever', 'whereupon', 'serious', 'all', 'they', 'another', 'towards', 'by', 'elsewhere', 'cry', 'own', 'sixty', 'off', 'thereupon', 'myself', 'however', 'many', 'system', 'those', 'this', 'less', 'in', 'same', 'the', 'therefore', 'made', 'one', 'whither', 'there', 'beyond', 'thereby', 'almost', 'everywhere', 'itself', 'nevertheless', 'us', 'always', 'though', 'around', 'except', 'was', 'thru', 'you', 'get', 'fifteen', 'if', 'very', 'two', 'cant', 'no', 'that', 'wherever', 'her', 'than', 'whom', 'nowhere', 'should', 'but', 'do', 'next', 'take', 'some', 'became', 'as', 'which', 'four', 'three', 'we', 'whereafter', 'seem', 'nobody', 'when', 'ours', 'third', 'side', 'both', 'whatever', 'bottom', 'any', 'who', 'cannot', 'everything', 'down', 'front', 'for', 'been', 'so', 'he', 'otherwise', 'mill', 'found', 'also', 'must', 'noone', 'a', 'of', 'never', 'moreover', 'thick', 'while', 'thin', 'first', 'during', 'an', 'at', 'your', 'etc', 'to', 'between', 'give', 'describe', 'bill', 'still', 'inc', 'throughout', 'anyway', 'fill', 'could', 'every', 'herein', 'forty', 'anyhow', 'hundred', 'twenty', 'is', 'whether', 'meanwhile', 'becomes', 'more', 'amount', 'although', 'put', 'least', 'ie', 'name', 'what', 'seems', 'detail', 'about', 'nothing', 'amoungst', 'behind', 'whereas', 'un', 'their', 'keep', 'become', 'even', 'themselves', 'has', 'hereupon'})\n"
     ]
    },
    {
     "name": "stderr",
     "output_type": "stream",
     "text": [
      "/usr/local/lib/python3.7/site-packages/sklearn/utils/deprecation.py:144: FutureWarning: The sklearn.feature_extraction.stop_words module is  deprecated in version 0.22 and will be removed in version 0.24. The corresponding classes / functions should instead be imported from sklearn.feature_extraction.text. Anything that cannot be imported from sklearn.feature_extraction.text is now part of the private API.\n",
      "  warnings.warn(message, FutureWarning)\n"
     ]
    }
   ],
   "source": [
    "from sklearn.feature_extraction import stop_words\n",
    "print(stop_words.ENGLISH_STOP_WORDS)"
   ]
  },
  {
   "cell_type": "markdown",
   "metadata": {},
   "source": [
    "You should have seen a large list of words that looks like:\n",
    "\n",
    "```frozenset({'across', 'mine', 'cannot', ...})```\n",
    "\n",
    "`frozenset` is a type of Python object that is immutable. In this lab you can use it just like an array without conversion."
   ]
  },
  {
   "cell_type": "markdown",
   "metadata": {},
   "source": [
    "Next, test your function with supplying `stop_words.ENGLISH_STOP_WORDS` as the second parameter."
   ]
  },
  {
   "cell_type": "code",
   "execution_count": 4,
   "metadata": {
    "ExecuteTime": {
     "end_time": "2020-01-06T12:06:56.552164Z",
     "start_time": "2020-01-06T12:06:56.545486Z"
    }
   },
   "outputs": [
    {
     "name": "stdout",
     "output_type": "stream",
     "text": [
      "{'bag_of_words': ['ironhack', 'cool', 'student', 'love'], 'term_freq': [[1, 1, 0, 0], [1, 0, 1, 0], [1, 0, 0, 1]]}\n"
     ]
    }
   ],
   "source": [
    "bow = get_bow_from_docs(docs, stop_words.ENGLISH_STOP_WORDS)\n",
    "\n",
    "print(bow)"
   ]
  },
  {
   "cell_type": "markdown",
   "metadata": {},
   "source": [
    "You should have seen:\n",
    "\n",
    "```{'bag_of_words': ['ironhack', 'cool', 'love', 'student'], 'term_freq': [[1, 1, 0, 0], [1, 0, 1, 0], [1, 0, 0, 1]]}```"
   ]
  }
 ],
 "metadata": {
  "kernelspec": {
   "display_name": "Python 3",
   "language": "python",
   "name": "python3"
  },
  "language_info": {
   "codemirror_mode": {
    "name": "ipython",
    "version": 3
   },
   "file_extension": ".py",
   "mimetype": "text/x-python",
   "name": "python",
   "nbconvert_exporter": "python",
   "pygments_lexer": "ipython3",
   "version": "3.7.5"
  }
 },
 "nbformat": 4,
 "nbformat_minor": 2
}
