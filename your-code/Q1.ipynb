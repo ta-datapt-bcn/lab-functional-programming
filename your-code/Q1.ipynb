{
 "cells": [
  {
   "cell_type": "markdown",
   "metadata": {},
   "source": [
    "In the cell below, create a Python function that wraps your previous solution for the Bag of Words lab.\n",
    "\n",
    "Requirements:\n",
    "\n",
    "1. Your function should accept the following parameters:\n",
    "    * `docs` [REQUIRED] - array of document paths.\n",
    "    * `stop_words` [OPTIONAL] - array of stop words. The default value is an empty array.\n",
    "\n",
    "1. Your function should return a Python object that contains the following:\n",
    "    * `bag_of_words` - array of strings of normalized unique words in the corpus.\n",
    "    * `term_freq` - array of the term-frequency vectors."
   ]
  },
  {
   "cell_type": "code",
   "execution_count": 100,
   "metadata": {
    "ExecuteTime": {
     "end_time": "2020-01-10T18:01:49.174783Z",
     "start_time": "2020-01-10T18:01:49.159687Z"
    }
   },
   "outputs": [],
   "source": [
    "# Import required libraries\n",
    "\n",
    "import pandas as pd\n",
    "import numpy as np\n",
    "import re\n",
    "\n",
    "# Define function\n",
    "def get_bow_from_docs(docs, stop_words=[]):\n",
    "    \n",
    "    # In the function, first define the variables you will use such as `corpus`, `bag_of_words`, and `term_freq`.\n",
    "    # Input : docs\n",
    "    # Input : stop_words\n",
    "    \n",
    "    corpus = []\n",
    "    bag_of_words = []\n",
    "    term_freq = []\n",
    "    words=[i for i in stop_words]\n",
    "    \n",
    "    \"\"\"\n",
    "    Loop `docs` and read the content of each doc into a string in `corpus`.\n",
    "    Remember to convert the doc content to lowercases and remove punctuation.\n",
    "    \"\"\"\n",
    "    \n",
    "    for i in docs:\n",
    "        a = \", \".join(open('../your-code/'+i))\n",
    "        corpus.append(a)\n",
    "    \n",
    "    corpus = [re.sub(r'[.]','',x.lower()) for x in corpus]\n",
    "    \n",
    "    \n",
    "    \"\"\"\n",
    "    Loop `corpus`. Append the terms in each doc into the `bag_of_words` array. The terms in `bag_of_words` \n",
    "    should be unique which means before adding each term you need to check if it's already added to the array.\n",
    "    In addition, check if each term is in the `stop_words` array. Only append the term to `bag_of_words`\n",
    "    if it is not a stop word.\n",
    "    \"\"\"\n",
    "    \n",
    "    for i in corpus:\n",
    "    \n",
    "        corp = \" \".join(corpus)\n",
    "        corp = corp.split()\n",
    "    \n",
    "        for i in corp:\n",
    "            if i not in bag_of_words and i not in words:\n",
    "                bag_of_words.append(i)\n",
    "    \n",
    "    \"\"\"\n",
    "    Loop `corpus` again. For each doc string, count the number of occurrences of each term in `bag_of_words`. \n",
    "    Create an array for each doc's term frequency and append it to `term_freq`.\n",
    "    \"\"\"\n",
    "        \n",
    "    for sentence in corpus:\n",
    "        \n",
    "        sentence = sentence.split()\n",
    "        lista = []\n",
    "        \n",
    "        for word in bag_of_words:\n",
    "\n",
    "            if word in sentence:\n",
    "                lista.append (1)\n",
    "            else:\n",
    "                lista.append(0)\n",
    "                \n",
    "        term_freq.append(lista)\n",
    "\n",
    "    \n",
    "    # Now return your output as an object\n",
    "    return {\n",
    "        \"bag_of_words\": bag_of_words,\n",
    "        \"term_freq\": term_freq\n",
    "    }"
   ]
  },
  {
   "cell_type": "markdown",
   "metadata": {},
   "source": [
    "Test your function without stop words. You should see the output like below:\n",
    "\n",
    "```{'bag_of_words': ['ironhack', 'is', 'cool', 'i', 'love', 'am', 'a', 'student', 'at'], 'term_freq': [[1, 1, 1, 0, 0, 0, 0, 0, 0], [1, 0, 0, 1, 1, 0, 0, 0, 0], [1, 0, 0, 1, 0, 1, 1, 1, 1]]}```"
   ]
  },
  {
   "cell_type": "code",
   "execution_count": 101,
   "metadata": {
    "ExecuteTime": {
     "end_time": "2020-01-10T18:01:50.045875Z",
     "start_time": "2020-01-10T18:01:50.034897Z"
    }
   },
   "outputs": [
    {
     "name": "stdout",
     "output_type": "stream",
     "text": [
      "{'bag_of_words': ['ironhack', 'is', 'cool', 'i', 'love', 'am', 'a', 'student', 'at'], 'term_freq': [[1, 1, 1, 0, 0, 0, 0, 0, 0], [1, 0, 0, 1, 1, 0, 0, 0, 0], [1, 0, 0, 1, 0, 1, 1, 1, 1]]}\n"
     ]
    }
   ],
   "source": [
    "# Define doc paths array\n",
    "docs = ['doc1.txt', 'doc2.txt', 'doc3.txt']\n",
    "\n",
    "# Obtain BoW from your function\n",
    "bow = get_bow_from_docs(docs)\n",
    "\n",
    "# Print BoW\n",
    "print(bow)"
   ]
  },
  {
   "cell_type": "markdown",
   "metadata": {},
   "source": [
    "If your attempt above is successful, nice work done!\n",
    "\n",
    "Now test your function again with the stop words. In the previous lab we defined the stop words in a large array. In this lab, we'll import the stop words from Scikit-Learn."
   ]
  },
  {
   "cell_type": "code",
   "execution_count": 102,
   "metadata": {
    "ExecuteTime": {
     "end_time": "2020-01-10T18:02:32.192308Z",
     "start_time": "2020-01-10T18:02:28.780259Z"
    }
   },
   "outputs": [
    {
     "name": "stdout",
     "output_type": "stream",
     "text": [
      "frozenset({'down', 'part', 'amount', 'amongst', 'made', 'so', 'whenever', 'several', 'should', 'eleven', 'for', 'latter', 'nine', 'or', 'either', 'had', 'always', 'interest', 'your', 'then', 'as', 'seems', 'whose', 'beyond', 'hereafter', 'mine', 'afterwards', 'became', 'now', 'before', 'but', 'yourself', 'becomes', 'nor', 'are', 'find', 'alone', 'it', 'much', 'anywhere', 'the', 'namely', 'by', 'other', 'put', 'am', 'after', 'noone', 'somewhere', 'thru', 'her', 'whereafter', 'were', 'that', 'do', 'how', 'bottom', 'wherein', 'inc', 'is', 'own', 'same', 'go', 'at', 'who', 'if', 'most', 'show', 'was', 'see', 'here', 'these', 'those', 'have', 'out', 'former', 'last', 'between', 'yours', 'thick', 'often', 'third', 'sixty', 'bill', 'further', 'us', 'twenty', 'onto', 'indeed', 'me', 'into', 'forty', 'because', 'anyhow', 'during', 'yourselves', 'per', 'i', 'within', 'hers', 'formerly', 'someone', 'towards', 'un', 'every', 'could', 'cannot', 'perhaps', 'even', 'eg', 'describe', 'system', 'itself', 'thus', 'top', 'ourselves', 'enough', 'toward', 'somehow', 'back', 'no', 'fifty', 'over', 'call', 'con', 'whether', 'since', 'their', 'under', 'both', 'detail', 'moreover', 'nothing', 'co', 'might', 'more', 'six', 'whereupon', 'nevertheless', 'empty', 'etc', 'though', 'be', 'hence', 'rather', 'full', 'become', 'this', 'which', 'seemed', 'than', 'when', 'twelve', 'ours', 'they', 'until', 'thereupon', 'nobody', 'cry', 'besides', 'whither', 'thence', 'hasnt', 'seem', 'others', 'any', 'everything', 'front', 'mill', 'on', 'else', 'my', 'although', 'may', 'will', 'name', 'two', 'latterly', 'would', 'almost', 'such', 'one', 'anything', 'meanwhile', 'move', 'where', 'five', 'otherwise', 'eight', 'ever', 'together', 'all', 'of', 'thereafter', 'too', 'side', 'what', 'off', 'upon', 'hereupon', 'up', 'been', 'in', 'amoungst', 'many', 'four', 'via', 'thereby', 'throughout', 'can', 'to', 'already', 'herein', 'again', 'three', 'serious', 'fill', 'take', 'his', 're', 'beforehand', 'some', 'seeming', 'therein', 'there', 'a', 'them', 'beside', 'through', 'sometimes', 'ie', 'get', 'without', 'not', 'has', 'except', 'around', 'de', 'becoming', 'mostly', 'and', 'elsewhere', 'below', 'give', 'therefore', 'please', 'keep', 'whatever', 'herself', 'against', 'however', 'couldnt', 'next', 'with', 'due', 'fifteen', 'whom', 'whoever', 'must', 'hundred', 'she', 'whereby', 'fire', 'done', 'him', 'neither', 'well', 'anyone', 'sometime', 'never', 'only', 'he', 'about', 'everyone', 'also', 'you', 'ten', 'another', 'cant', 'nowhere', 'everywhere', 'anyway', 'wherever', 'himself', 'found', 'less', 'each', 'whereas', 'along', 'first', 'being', 'from', 'still', 'while', 'themselves', 'among', 'ltd', 'least', 'across', 'above', 'its', 'yet', 'our', 'once', 'whole', 'none', 'behind', 'whence', 'we', 'myself', 'very', 'few', 'something', 'why', 'hereby', 'thin', 'an', 'sincere'})\n"
     ]
    }
   ],
   "source": [
    "from sklearn.feature_extraction import stop_words\n",
    "print(stop_words.ENGLISH_STOP_WORDS)"
   ]
  },
  {
   "cell_type": "markdown",
   "metadata": {},
   "source": [
    "You should have seen a large list of words that looks like:\n",
    "\n",
    "```frozenset({'across', 'mine', 'cannot', ...})```\n",
    "\n",
    "`frozenset` is a type of Python object that is immutable. In this lab you can use it just like an array without conversion."
   ]
  },
  {
   "cell_type": "markdown",
   "metadata": {},
   "source": [
    "Next, test your function with supplying `stop_words.ENGLISH_STOP_WORDS` as the second parameter."
   ]
  },
  {
   "cell_type": "code",
   "execution_count": 103,
   "metadata": {
    "ExecuteTime": {
     "end_time": "2020-01-10T18:02:32.491672Z",
     "start_time": "2020-01-10T18:02:32.472063Z"
    }
   },
   "outputs": [
    {
     "name": "stdout",
     "output_type": "stream",
     "text": [
      "{'bag_of_words': ['ironhack', 'cool', 'love', 'student'], 'term_freq': [[1, 1, 0, 0], [1, 0, 1, 0], [1, 0, 0, 1]]}\n"
     ]
    }
   ],
   "source": [
    "bow2 = get_bow_from_docs(docs, stop_words.ENGLISH_STOP_WORDS)\n",
    "\n",
    "print(bow2)"
   ]
  },
  {
   "cell_type": "markdown",
   "metadata": {},
   "source": [
    "You should have seen:\n",
    "\n",
    "```{'bag_of_words': ['ironhack', 'cool', 'love', 'student'], 'term_freq': [[1, 1, 0, 0], [1, 0, 1, 0], [1, 0, 0, 1]]}```"
   ]
  },
  {
   "cell_type": "code",
   "execution_count": null,
   "metadata": {},
   "outputs": [],
   "source": []
  }
 ],
 "metadata": {
  "kernelspec": {
   "display_name": "Python 3",
   "language": "python",
   "name": "python3"
  },
  "language_info": {
   "codemirror_mode": {
    "name": "ipython",
    "version": 3
   },
   "file_extension": ".py",
   "mimetype": "text/x-python",
   "name": "python",
   "nbconvert_exporter": "python",
   "pygments_lexer": "ipython3",
   "version": "3.7.4"
  },
  "toc": {
   "base_numbering": 1,
   "nav_menu": {},
   "number_sections": true,
   "sideBar": true,
   "skip_h1_title": false,
   "title_cell": "Table of Contents",
   "title_sidebar": "Contents",
   "toc_cell": false,
   "toc_position": {},
   "toc_section_display": true,
   "toc_window_display": false
  },
  "varInspector": {
   "cols": {
    "lenName": 16,
    "lenType": 16,
    "lenVar": 40
   },
   "kernels_config": {
    "python": {
     "delete_cmd_postfix": "",
     "delete_cmd_prefix": "del ",
     "library": "var_list.py",
     "varRefreshCmd": "print(var_dic_list())"
    },
    "r": {
     "delete_cmd_postfix": ") ",
     "delete_cmd_prefix": "rm(",
     "library": "var_list.r",
     "varRefreshCmd": "cat(var_dic_list()) "
    }
   },
   "types_to_exclude": [
    "module",
    "function",
    "builtin_function_or_method",
    "instance",
    "_Feature"
   ],
   "window_display": false
  }
 },
 "nbformat": 4,
 "nbformat_minor": 2
}
