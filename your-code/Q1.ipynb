{
 "cells": [
  {
   "cell_type": "markdown",
   "metadata": {},
   "source": [
    "In the cell below, create a Python function that wraps your previous solution for the Bag of Words lab.\n",
    "\n",
    "Requirements:\n",
    "\n",
    "1. Your function should accept the following parameters:\n",
    "    * `docs` [REQUIRED] - array of document paths.\n",
    "    * `stop_words` [OPTIONAL] - array of stop words. The default value is an empty array.\n",
    "\n",
    "1. Your function should return a Python object that contains the following:\n",
    "    * `bag_of_words` - array of strings of normalized unique words in the corpus.\n",
    "    * `term_freq` - array of the term-frequency vectors."
   ]
  },
  {
   "cell_type": "code",
   "execution_count": 15,
   "metadata": {
    "ExecuteTime": {
     "end_time": "2020-01-11T19:08:03.853850Z",
     "start_time": "2020-01-11T19:08:03.844021Z"
    }
   },
   "outputs": [
    {
     "name": "stdout",
     "output_type": "stream",
     "text": [
      "{'bag_of_words': ['ironhack', 'is', 'cool', 'i', 'love', 'am', 'a', 'student', 'at'], 'term_freq': [[1, 1, 1, 0, 0, 0, 0, 0, 0], [1, 0, 0, 1, 1, 0, 0, 0, 0], [1, 0, 0, 1, 0, 1, 1, 1, 1]]}\n"
     ]
    }
   ],
   "source": [
    "# Import required libraries\n",
    "\n",
    "# Define function\n",
    "docs = ['doc1.txt', 'doc2.txt', 'doc3.txt']\n",
    "\n",
    "def get_bow_from_docs(docs, stop_words=[]):\n",
    "    \n",
    "    # In the function, first define the variables you will use such as `corpus`, `bag_of_words`, and `term_freq`.\n",
    "    corpus = []\n",
    "    bag_of_words = []\n",
    "    term_freq = []\n",
    "    \n",
    "    \"\"\"\n",
    "    Loop `docs` and read the content of each doc into a string in `corpus`.\n",
    "    Remember to convert the doc content to lowercases and remove punctuation.\n",
    "    \"\"\"\n",
    "    for doc in docs:\n",
    "        op = open(doc, \"r\")\n",
    "        read = str(op.read())\n",
    "        corpus.append(read)\n",
    "    \n",
    "    for index, string in enumerate(corpus):\n",
    "        corpus[index] = string[:-1].lower()\n",
    "     \n",
    "    \"\"\"\n",
    "    Loop `corpus`. Append the terms in each doc into the `bag_of_words` array. The terms in `bag_of_words` \n",
    "    should be unique which means before adding each term you need to check if it's already added to the array.\n",
    "    In addition, check if each term is in the `stop_words` array. Only append the term to `bag_of_words`\n",
    "    if it is not a stop word.\n",
    "    \"\"\"\n",
    "    \n",
    "    for phrase in corpus:\n",
    "        words = str(phrase).split()\n",
    "        for word in words:\n",
    "            if word not in bag_of_words:\n",
    "                bag_of_words.append(word)\n",
    "                \n",
    "    bag_of_words = [word for word in bag_of_words if word not in stop_words]\n",
    "    \n",
    "    term_freq =[]\n",
    "    \n",
    "    \n",
    "    \"\"\"\n",
    "    Loop `corpus` again. For each doc string, count the number of occurrences of each term in `bag_of_words`. \n",
    "    Create an array for each doc's term frequency and append it to `term_freq`.\n",
    "    \"\"\"\n",
    "    \n",
    "    for i in corpus:\n",
    "        lst = []\n",
    "        for word in bag_of_words:\n",
    "            lst.append(i.split().count(word))\n",
    "        term_freq.append(lst)\n",
    "    \n",
    "    \n",
    "    # Now return your output as an object\n",
    "    return {\n",
    "        \"bag_of_words\": bag_of_words,\n",
    "        \"term_freq\": term_freq\n",
    "    }\n",
    "\n",
    "print(get_bow_from_docs(docs))"
   ]
  },
  {
   "cell_type": "markdown",
   "metadata": {},
   "source": [
    "Test your function without stop words. You should see the output like below:\n",
    "\n",
    "```{'bag_of_words': ['ironhack', 'is', 'cool', 'i', 'love', 'am', 'a', 'student', 'at'], 'term_freq': [[1, 1, 1, 0, 0, 0, 0, 0, 0], [1, 0, 0, 1, 1, 0, 0, 0, 0], [1, 0, 0, 1, 0, 1, 1, 1, 1]]}```"
   ]
  },
  {
   "cell_type": "code",
   "execution_count": 16,
   "metadata": {
    "ExecuteTime": {
     "end_time": "2020-01-11T19:08:04.770711Z",
     "start_time": "2020-01-11T19:08:04.766014Z"
    }
   },
   "outputs": [
    {
     "name": "stdout",
     "output_type": "stream",
     "text": [
      "{'bag_of_words': ['ironhack', 'is', 'cool', 'i', 'love', 'am', 'a', 'student', 'at'], 'term_freq': [[1, 1, 1, 0, 0, 0, 0, 0, 0], [1, 0, 0, 1, 1, 0, 0, 0, 0], [1, 0, 0, 1, 0, 1, 1, 1, 1]]}\n"
     ]
    }
   ],
   "source": [
    "# Define doc paths array\n",
    "docs = [\"doc1.txt\", \"doc2.txt\", \"doc3.txt\"]\n",
    "\n",
    "# Obtain BoW from your function\n",
    "bow = get_bow_from_docs(docs)\n",
    "\n",
    "# Print BoW\n",
    "print(bow)"
   ]
  },
  {
   "cell_type": "markdown",
   "metadata": {},
   "source": [
    "If your attempt above is successful, nice work done!\n",
    "\n",
    "Now test your function again with the stop words. In the previous lab we defined the stop words in a large array. In this lab, we'll import the stop words from Scikit-Learn."
   ]
  },
  {
   "cell_type": "code",
   "execution_count": 13,
   "metadata": {
    "ExecuteTime": {
     "end_time": "2020-01-11T17:50:12.808229Z",
     "start_time": "2020-01-11T17:50:12.013375Z"
    }
   },
   "outputs": [
    {
     "name": "stdout",
     "output_type": "stream",
     "text": [
      "frozenset({'hence', 'your', 'do', 'give', 'ever', 'get', 'under', 'on', 'have', 'through', 'beyond', 'first', 'every', 'although', 'hereupon', 'where', 'alone', 'same', 'its', 'always', 'him', 'often', 'next', 'several', 'therefore', 'this', 'above', 'except', 'which', 'whereafter', 'find', 'against', 'bill', 'part', 'further', 'made', 'each', 'about', 'without', 'seeming', 'should', 'anyhow', 'can', 'seemed', 'they', 'into', 'seems', 'by', 'across', 'whoever', 'we', 'see', 'between', 'too', 'four', 'otherwise', 'those', 'while', 'only', 'wherever', 'nothing', 'de', 'last', 'together', 'mill', 'per', 'a', 'onto', 'once', 'hereafter', 'such', 'is', 'for', 'call', 'could', 'ours', 'before', 'due', 'something', 'twenty', 'i', 'themselves', 'ourselves', 'back', 'because', 'but', 'anyway', 'these', 'if', 'her', 'she', 'nowhere', 'also', 'front', 'whither', 'who', 'toward', 'move', 'else', 'becoming', 'show', 'from', 'five', 'himself', 'yourself', 'at', 'to', 'than', 'whereas', 'all', 'thick', 'had', 'few', 'has', 'yourselves', 'rather', 'amount', 'the', 'am', 'another', 'was', 'moreover', 'thin', 'anything', 'be', 'out', 'become', 'hasnt', 'hundred', 'you', 'became', 'latter', 'none', 'or', 'meanwhile', 'herein', 'con', 'until', 'among', 'what', 'well', 'will', 'bottom', 'after', 'herself', 'go', 'here', 'namely', 'sometimes', 'an', 'it', 'elsewhere', 'most', 're', 'some', 'mostly', 'co', 'throughout', 'eight', 'cannot', 'around', 'many', 'formerly', 'one', 'becomes', 'latterly', 'via', 'much', 'done', 'not', 'eleven', 'sometime', 'amongst', 'thus', 'and', 'might', 'whose', 'other', 'towards', 'below', 'fifteen', 'anyone', 'etc', 'our', 'us', 'besides', 'full', 'thereby', 'more', 'everywhere', 'nevertheless', 'keep', 'describe', 'whom', 'side', 'were', 'no', 'cry', 'then', 'fifty', 'would', 'even', 'whereby', 'system', 'fill', 'ltd', 'two', 'perhaps', 'top', 'found', 'still', 'beside', 'nobody', 'own', 'already', 'third', 'along', 'empty', 'either', 'take', 'that', 'when', 'me', 'detail', 'name', 'thru', 'afterwards', 'fire', 'there', 'myself', 'nine', 'inc', 'yet', 'someone', 'thereafter', 'down', 'beforehand', 'must', 'since', 'of', 'somehow', 'eg', 'un', 'somewhere', 'upon', 'hereby', 'whence', 'them', 'neither', 'both', 'former', 'seem', 'interest', 'may', 'with', 'anywhere', 'twelve', 'very', 'six', 'within', 'everyone', 'behind', 'three', 'enough', 'now', 'put', 'whereupon', 'others', 'sincere', 'nor', 'wherein', 'serious', 'therein', 'he', 'mine', 'indeed', 'ie', 'during', 'whenever', 'couldnt', 'my', 'sixty', 'whole', 'in', 'been', 'why', 'least', 'itself', 'ten', 'being', 'yours', 'thereupon', 'off', 'hers', 'noone', 'less', 'so', 'again', 'amoungst', 'almost', 'as', 'whether', 'their', 'forty', 'up', 'any', 'never', 'how', 'cant', 'thence', 'however', 'over', 'everything', 'though', 'are', 'his', 'whatever', 'please'})\n"
     ]
    }
   ],
   "source": [
    "from sklearn.feature_extraction import stop_words\n",
    "print(stop_words.ENGLISH_STOP_WORDS)"
   ]
  },
  {
   "cell_type": "markdown",
   "metadata": {},
   "source": [
    "You should have seen a large list of words that looks like:\n",
    "\n",
    "```frozenset({'across', 'mine', 'cannot', ...})```\n",
    "\n",
    "`frozenset` is a type of Python object that is immutable. In this lab you can use it just like an array without conversion."
   ]
  },
  {
   "cell_type": "markdown",
   "metadata": {},
   "source": [
    "Next, test your function with supplying `stop_words.ENGLISH_STOP_WORDS` as the second parameter."
   ]
  },
  {
   "cell_type": "code",
   "execution_count": 14,
   "metadata": {
    "ExecuteTime": {
     "end_time": "2020-01-11T17:50:20.969730Z",
     "start_time": "2020-01-11T17:50:20.965890Z"
    }
   },
   "outputs": [
    {
     "name": "stdout",
     "output_type": "stream",
     "text": [
      "{'bag_of_words': ['ironhack', 'cool', 'love', 'student'], 'term_freq': [[1, 1, 0, 0], [1, 0, 1, 0], [1, 0, 0, 1]]}\n"
     ]
    }
   ],
   "source": [
    "bow = get_bow_from_docs(docs, stop_words.ENGLISH_STOP_WORDS)\n",
    "\n",
    "print(bow)"
   ]
  },
  {
   "cell_type": "markdown",
   "metadata": {},
   "source": [
    "You should have seen:\n",
    "\n",
    "```{'bag_of_words': ['ironhack', 'cool', 'love', 'student'], 'term_freq': [[1, 1, 0, 0], [1, 0, 1, 0], [1, 0, 0, 1]]}```"
   ]
  },
  {
   "cell_type": "code",
   "execution_count": null,
   "metadata": {
    "collapsed": true
   },
   "outputs": [],
   "source": []
  }
 ],
 "metadata": {
  "kernelspec": {
   "display_name": "Python 3",
   "language": "python",
   "name": "python3"
  },
  "language_info": {
   "codemirror_mode": {
    "name": "ipython",
    "version": 3
   },
   "file_extension": ".py",
   "mimetype": "text/x-python",
   "name": "python",
   "nbconvert_exporter": "python",
   "pygments_lexer": "ipython3",
   "version": "3.7.4"
  },
  "toc": {
   "base_numbering": 1,
   "nav_menu": {},
   "number_sections": true,
   "sideBar": true,
   "skip_h1_title": false,
   "title_cell": "Table of Contents",
   "title_sidebar": "Contents",
   "toc_cell": false,
   "toc_position": {},
   "toc_section_display": true,
   "toc_window_display": false
  },
  "varInspector": {
   "cols": {
    "lenName": 16,
    "lenType": 16,
    "lenVar": 40
   },
   "kernels_config": {
    "python": {
     "delete_cmd_postfix": "",
     "delete_cmd_prefix": "del ",
     "library": "var_list.py",
     "varRefreshCmd": "print(var_dic_list())"
    },
    "r": {
     "delete_cmd_postfix": ") ",
     "delete_cmd_prefix": "rm(",
     "library": "var_list.r",
     "varRefreshCmd": "cat(var_dic_list()) "
    }
   },
   "types_to_exclude": [
    "module",
    "function",
    "builtin_function_or_method",
    "instance",
    "_Feature"
   ],
   "window_display": false
  }
 },
 "nbformat": 4,
 "nbformat_minor": 2
}
