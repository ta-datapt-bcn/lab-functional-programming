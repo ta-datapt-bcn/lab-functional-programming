{
 "cells": [
  {
   "cell_type": "markdown",
   "metadata": {},
   "source": [
    "**Lambda** is a special Python function type that is **anonymous**. By *anonymous* it means a lambda function does not have name. Lambda functions are embedded inside codes so that you don't call them like calling regular Python functions.\n",
    "\n",
    "**`Map`** applies a function to all the items in an input list. The function that is applied can be a standard or a lambda function.\n",
    "\n",
    "For instance, below is an example of multiplying number tuples in a list:"
   ]
  },
  {
   "cell_type": "code",
   "execution_count": 7,
   "metadata": {
    "ExecuteTime": {
     "end_time": "2020-01-10T21:05:31.600665Z",
     "start_time": "2020-01-10T21:05:31.578067Z"
    }
   },
   "outputs": [
    {
     "data": {
      "text/plain": [
       "[2, 12, 30]"
      ]
     },
     "execution_count": 7,
     "metadata": {},
     "output_type": "execute_result"
    }
   ],
   "source": [
    "items = [(1,2), (3,4), (5,6)]\n",
    "\n",
    "def multiply(num_tuple):\n",
    "    return num_tuple[0]*num_tuple[1]\n",
    "list(map(multiply, items))"
   ]
  },
  {
   "cell_type": "markdown",
   "metadata": {},
   "source": [
    "...is the same as:"
   ]
  },
  {
   "cell_type": "code",
   "execution_count": 8,
   "metadata": {
    "ExecuteTime": {
     "end_time": "2020-01-10T21:05:31.962339Z",
     "start_time": "2020-01-10T21:05:31.948970Z"
    }
   },
   "outputs": [
    {
     "data": {
      "text/plain": [
       "[2, 12, 30]"
      ]
     },
     "execution_count": 8,
     "metadata": {},
     "output_type": "execute_result"
    }
   ],
   "source": [
    "items = [(1,2), (3,4), (5,6)]\n",
    "list(map(lambda item: item[0]*item[1], items))"
   ]
  },
  {
   "cell_type": "markdown",
   "metadata": {},
   "source": [
    "Why do we sometimes use `lambda` and `map`? Because, as you see in the example above, they make your code really concise by combining 3 lines of code to 1 line.\n",
    "\n",
    "Besides `map`, there is also **`filter`** that selectively returns elements in an array according to whether you return `True`. There is also **`reduce`** that performs computation on a list of items then returns result.\n",
    "\n",
    "Here is a [good tutorial](http://book.pythontips.com/en/latest/map_filter.html) about `map`, `filter`, and `reduce`. Read it if you are not familiar with how they are used. Then proceed to the next cell."
   ]
  },
  {
   "cell_type": "markdown",
   "metadata": {},
   "source": [
    "In the next cell, use `filter` and `lambda` to return a list that contains positive numbers only. The output should be:\n",
    "\n",
    "```[1, 4, 5]```"
   ]
  },
  {
   "cell_type": "code",
   "execution_count": 9,
   "metadata": {
    "ExecuteTime": {
     "end_time": "2020-01-10T21:05:32.442204Z",
     "start_time": "2020-01-10T21:05:32.435157Z"
    }
   },
   "outputs": [
    {
     "name": "stdout",
     "output_type": "stream",
     "text": [
      "[1, 4, 5]\n"
     ]
    }
   ],
   "source": [
    "numbers = [1, 4, -1, -100, 0, 5, -99]\n",
    "\n",
    "#less_than_zero = list(filter(lambda x: x < 0, number_list))\n",
    "\n",
    "# Enter your code below\n",
    "result=list(filter(lambda x: x>0,numbers))\n",
    "print(result)"
   ]
  },
  {
   "cell_type": "markdown",
   "metadata": {},
   "source": [
    "Next, use `reduce` and `lambda` to return a string that only contains English terms. The English terms are separated with a whitespace ` `.\n",
    "\n",
    "Hints: \n",
    "\n",
    "* If your Jupyter Notebook cannot import `langdetect`, you need to install it with `pip install langdetect`. If Jupyter Notebook still cannot find the library, try install with `python3 -m pip install langdetect`. This is because you need to install `langdetect` in the same Python run environment where Jupyter Notebook is running.\n",
    "\n",
    "* If a word is English, `langdetect.detect(word)=='en'` will return `True`.\n",
    "\n",
    "Your output should read:\n",
    "\n",
    "```'good morning everyone'```"
   ]
  },
  {
   "cell_type": "code",
   "execution_count": 10,
   "metadata": {
    "ExecuteTime": {
     "end_time": "2020-01-10T21:05:32.899522Z",
     "start_time": "2020-01-10T21:05:32.772288Z"
    }
   },
   "outputs": [
    {
     "name": "stdout",
     "output_type": "stream",
     "text": [
      "good morning everyone\n"
     ]
    }
   ],
   "source": [
    "import langdetect\n",
    "from functools import reduce\n",
    "words = ['good morning', '早上好', 'доброго', 'おはようございます', 'everyone', '大家', 'каждый', 'みんな']\n",
    "\n",
    "# Enter your code below\n",
    "#product = reduce((lambda x, y: x * y), [1, 2, 3, 4])\n",
    "#f = lambda a,b: a if (a > b) else b\n",
    "#>>> reduce(f, [47,11,42,102,13])\n",
    "#return reduce(lambda x, y: x + (' ' if y in symbols else y), str)\n",
    "\n",
    "\n",
    "#he intentado hacerlo por separado y haciendo un reduce(f,words) pero no ha habido manera\n",
    "#f= lambda solucion,word: solucion +' '+ word if langdetect.detect(word)=='en' else word\n",
    "\n",
    "result=reduce(lambda solucion,word: solucion +(' '+word if langdetect.detect(word)=='en' else '') ,words)\n",
    "\n",
    "print(result)\n"
   ]
  },
  {
   "cell_type": "markdown",
   "metadata": {},
   "source": [
    "# Bonus Question"
   ]
  },
  {
   "cell_type": "markdown",
   "metadata": {},
   "source": [
    "Finally, if you still have time, convert your response in Q2 by using `lambda`, `map`, `filter`, or `reduce` where applicable. Enter your function in the cell below.\n",
    "\n",
    "As you write Python functions, generally you don't want to make your function too long. Long functions are difficult to read and difficult to debug. If a function is getting too long, consider breaking it into sever shorter functions where the main function calls other functions. If anything goes wrong, you can output debug messages in each of the functions to check where exactly the error is."
   ]
  },
  {
   "cell_type": "code",
   "execution_count": 11,
   "metadata": {
    "ExecuteTime": {
     "end_time": "2020-01-10T21:05:33.602887Z",
     "start_time": "2020-01-10T21:05:33.586497Z"
    }
   },
   "outputs": [],
   "source": [
    "# Enter your code below\n",
    "import re\n",
    "\n",
    "def get_bow_from_docs(docs, stop_words=[]):\n",
    "    \n",
    "    corpus = []\n",
    "    bag_of_words = []\n",
    "    term_freq = []\n",
    "\n",
    "    corpus=[open(file_name,'r').read() for file_name in docs]\n",
    "    corpus=map(lambda i: i.lower(), corpus)\n",
    "    corpus=map(lambda i: re.sub('<.*?>', '', i), corpus)\n",
    "    corpus=map(lambda i: re.sub(r'[^\\w\\s]', '', i),corpus)\n",
    "\n",
    "    all_words=list(map(lambda i: re.findall('\\w+',i),corpus))\n",
    "    bag_of_words=set([word for array in all_words for word in array])\n",
    "    bag_of_words=sorted(list(set(bag_of_words)-set(stop_words)))\n",
    "    \n",
    "    term_freq = []\n",
    "    for array in all_words:\n",
    "        array2=[]\n",
    "        for word2 in bag_of_words:\n",
    "            count=0\n",
    "            for word in array:\n",
    "                if word==word2:\n",
    "                    count=+1\n",
    "            array2.append(count)\n",
    "        term_freq.append(array2)\n",
    "    \n",
    "    #result=list(filter(lambda x: x>0,numbers))\n",
    "    #p=[word for i in all_words for word in i]\n",
    "    #print(p)   \n",
    "    #result=list(filter(lambda word: (word for word in all_words) in bag_of_words,all_words)) \n",
    "    #print(result)\n",
    "    \n",
    "    # Now return your output as an object\n",
    "    return {\n",
    "        \"bag_of_words\": bag_of_words,\n",
    "        \"term_freq\": term_freq\n",
    "    }\n"
   ]
  },
  {
   "cell_type": "markdown",
   "metadata": {},
   "source": [
    "Test your function below with the Bag of Words lab docs (it's easier for you to debug your code). Your output should be:\n",
    "\n",
    "```{'bag_of_words': ['ironhack', 'cool', 'love', 'student'], 'term_freq': [[1, 1, 0, 0], [1, 0, 1, 0], [1, 0, 0, 1]]}```"
   ]
  },
  {
   "cell_type": "code",
   "execution_count": 12,
   "metadata": {
    "ExecuteTime": {
     "end_time": "2020-01-10T21:05:34.695859Z",
     "start_time": "2020-01-10T21:05:34.686492Z"
    }
   },
   "outputs": [
    {
     "name": "stdout",
     "output_type": "stream",
     "text": [
      "{'bag_of_words': ['cool', 'ironhack', 'love', 'student'], 'term_freq': [[1, 1, 0, 0], [0, 1, 1, 0], [0, 1, 0, 1]]}\n"
     ]
    }
   ],
   "source": [
    "from sklearn.feature_extraction import stop_words\n",
    "'''bow = get_bow_from_docs([\n",
    "    '../../lab-bag-of-words/your-code/doc1.txt', \n",
    "    '../../lab-bag-of-words/your-code/doc2.txt', \n",
    "    '../../lab-bag-of-words/your-code/doc3.txt'],\n",
    "    stop_words.ENGLISH_STOP_WORDS\n",
    ")'''\n",
    "\n",
    "bow = get_bow_from_docs(['doc1.txt','doc2.txt','doc3.txt'],\n",
    "    stop_words.ENGLISH_STOP_WORDS\n",
    ")\n",
    "\n",
    "print(bow)"
   ]
  },
  {
   "cell_type": "code",
   "execution_count": null,
   "metadata": {},
   "outputs": [],
   "source": []
  }
 ],
 "metadata": {
  "kernelspec": {
   "display_name": "Python 3",
   "language": "python",
   "name": "python3"
  },
  "language_info": {
   "codemirror_mode": {
    "name": "ipython",
    "version": 3
   },
   "file_extension": ".py",
   "mimetype": "text/x-python",
   "name": "python",
   "nbconvert_exporter": "python",
   "pygments_lexer": "ipython3",
   "version": "3.7.4"
  },
  "toc": {
   "base_numbering": 1,
   "nav_menu": {},
   "number_sections": true,
   "sideBar": true,
   "skip_h1_title": false,
   "title_cell": "Table of Contents",
   "title_sidebar": "Contents",
   "toc_cell": false,
   "toc_position": {},
   "toc_section_display": true,
   "toc_window_display": false
  },
  "varInspector": {
   "cols": {
    "lenName": 16,
    "lenType": 16,
    "lenVar": 40
   },
   "kernels_config": {
    "python": {
     "delete_cmd_postfix": "",
     "delete_cmd_prefix": "del ",
     "library": "var_list.py",
     "varRefreshCmd": "print(var_dic_list())"
    },
    "r": {
     "delete_cmd_postfix": ") ",
     "delete_cmd_prefix": "rm(",
     "library": "var_list.r",
     "varRefreshCmd": "cat(var_dic_list()) "
    }
   },
   "types_to_exclude": [
    "module",
    "function",
    "builtin_function_or_method",
    "instance",
    "_Feature"
   ],
   "window_display": false
  }
 },
 "nbformat": 4,
 "nbformat_minor": 2
}
